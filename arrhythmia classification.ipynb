{
 "cells": [
  {
   "cell_type": "code",
   "execution_count": 13,
   "id": "96adb5cc",
   "metadata": {},
   "outputs": [],
   "source": [
    "import pandas as pd\n",
    "import numpy as np\n",
    "\n",
    "from sklearn.preprocessing import StandardScaler,MinMaxScaler\n",
    "\n",
    "from sklearn.cluster import KMeans\n",
    "\n",
    "import matplotlib.pyplot as plt\n",
    "from matplotlib import pyplot\n",
    "from sklearn.decomposition import PCA\n",
    "from sklearn.metrics import silhouette_score\n",
    "from sklearn.metrics.cluster import rand_score\n",
    "import seaborn as sns"
   ]
  },
  {
   "cell_type": "markdown",
   "id": "3db2c858",
   "metadata": {},
   "source": [
    "# 1. Preprocessing"
   ]
  },
  {
   "cell_type": "markdown",
   "id": "79782c9d",
   "metadata": {},
   "source": [
    "# import the data and convert it to dataframe"
   ]
  },
  {
   "cell_type": "code",
   "execution_count": 14,
   "id": "1c6725f9",
   "metadata": {},
   "outputs": [],
   "source": [
    "df= pd.read_csv('arrhythmia.data',names=(\"Age\",\"Sex\",\"Height\",\"Weight\",\"QRS_Dur\",\n",
    "\"P-R_Int\",\"Q-T_Int\",\"T_Int\",\"P_Int\",\"QRS\",\"T\",\"P\",\"QRST\",\"J\",\"Heart_Rate\",\n",
    "\"Q_Wave\",\"R_Wave\",\"S_Wave\",\"R'_Wave\",\"S'_Wave\",\"Int_Def\",\"Rag_R_Nom\",\n",
    "\"Diph_R_Nom\",\"Rag_P_Nom\",\"Diph_P_Nom\",\"Rag_T_Nom\",\"Diph_T_Nom\", \n",
    "\"DII00\", \"DII01\",\"DII02\", \"DII03\", \"DII04\",\"DII05\",\"DII06\",\"DII07\",\"DII08\",\"DII09\",\"DII10\",\"DII11\",\n",
    "\"DIII00\",\"DIII01\",\"DIII02\", \"DIII03\", \"DIII04\",\"DIII05\",\"DIII06\",\"DIII07\",\"DIII08\",\"DIII09\",\"DIII10\",\"DIII11\",\n",
    "\"AVR00\",\"AVR01\",\"AVR02\",\"AVR03\",\"AVR04\",\"AVR05\",\"AVR06\",\"AVR07\",\"AVR08\",\"AVR09\",\"AVR10\",\"AVR11\",\n",
    "\"AVL00\",\"AVL01\",\"AVL02\",\"AVL03\",\"AVL04\",\"AVL05\",\"AVL06\",\"AVL07\",\"AVL08\",\"AVL09\",\"AVL10\",\"AVL11\",\n",
    "\"AVF00\",\"AVF01\",\"AVF02\",\"AVF03\",\"AVF04\",\"AVF05\",\"AVF06\",\"AVF07\",\"AVF08\",\"AVF09\",\"AVF10\",\"AVF11\",\n",
    "\"V100\",\"V101\",\"V102\",\"V103\",\"V104\",\"V105\",\"V106\",\"V107\",\"V108\",\"V109\",\"V110\",\"V111\",\n",
    "\"V200\",\"V201\",\"V202\",\"V203\",\"V204\",\"V205\",\"V206\",\"V207\",\"V208\",\"V209\",\"V210\",\"V211\",\n",
    "\"V300\",\"V301\",\"V302\",\"V303\",\"V304\",\"V305\",\"V306\",\"V307\",\"V308\",\"V309\",\"V310\",\"V311\",\n",
    "\"V400\",\"V401\",\"V402\",\"V403\",\"V404\",\"V405\",\"V406\",\"V407\",\"V408\",\"V409\",\"V410\",\"V411\",\n",
    "\"V500\",\"V501\",\"V502\",\"V503\",\"V504\",\"V505\",\"V506\",\"V507\",\"V508\",\"V509\",\"V510\",\"V511\",\n",
    "\"V600\",\"V601\",\"V602\",\"V603\",\"V604\",\"V605\",\"V606\",\"V607\",\"V608\",\"V609\",\"V610\",\"V611\",\n",
    "\"JJ_Wave\",\"Amp_Q_Wave\",\"Amp_R_Wave\",\"Amp_S_Wave\",\"R_Prime_Wave\",\"S_Prime_Wave\",\"P_Wave\",\"T_Wave\",\n",
    "\"QRSA\",\"QRSTA\",\"DII170\",\"DII171\",\"DII172\",\"DII173\",\"DII174\",\"DII175\",\"DII176\",\"DII177\",\"DII178\",\"DII179\",\n",
    "\"DIII180\",\"DIII181\",\"DIII182\",\"DIII183\",\"DIII184\",\"DIII185\",\"DIII186\",\"DIII187\",\"DIII188\",\"DIII189\",\n",
    "\"AVR190\",\"AVR191\",\"AVR192\",\"AVR193\",\"AVR194\",\"AVR195\",\"AVR196\",\"AVR197\",\"AVR198\",\"AVR199\",\n",
    "\"AVL200\",\"AVL201\",\"AVL202\",\"AVL203\",\"AVL204\",\"AVL205\",\"AVL206\",\"AVL207\",\"AVL208\",\"AVL209\",\n",
    "\"AVF210\",\"AVF211\",\"AVF212\",\"AVF213\",\"AVF214\",\"AVF215\",\"AVF216\",\"AVF217\",\"AVF218\",\"AVF219\",\n",
    "\"V1220\",\"V1221\",\"V1222\",\"V1223\",\"V1224\",\"V1225\",\"V1226\",\"V1227\",\"V1228\",\"V1229\",\n",
    "\"V2230\",\"V2231\",\"V2232\",\"V2233\",\"V2234\",\"V2235\",\"V2236\",\"V2237\",\"V2238\",\"V2239\",\n",
    "\"V3240\",\"V3241\",\"V3242\",\"V3243\",\"V3244\",\"V3245\",\"V3246\",\"V3247\",\"V3248\",\"V3249\",\n",
    "\"V4250\",\"V4251\",\"V4252\",\"V4253\",\"V4254\",\"V4255\",\"V4256\",\"V4257\",\"V4258\",\"V4259\",\n",
    "\"V5260\",\"V5261\",\"V5262\",\"V5263\",\"V5264\",\"V5265\",\"V5266\",\"V5267\",\"V5268\",\"V5269\",\n",
    "\"V6270\",\"V6271\",\"V6272\",\"V6273\",\"V6274\",\"V6275\",\"V6276\",\"V6277\",\"V6278\",\"V6279\",\"Class\"))\n",
    "\n",
    "\n",
    "df = df.replace('?',np.nan)"
   ]
  },
  {
   "cell_type": "code",
   "execution_count": 15,
   "id": "6d48ff4b",
   "metadata": {},
   "outputs": [
    {
     "data": {
      "text/html": [
       "<div>\n",
       "<style scoped>\n",
       "    .dataframe tbody tr th:only-of-type {\n",
       "        vertical-align: middle;\n",
       "    }\n",
       "\n",
       "    .dataframe tbody tr th {\n",
       "        vertical-align: top;\n",
       "    }\n",
       "\n",
       "    .dataframe thead th {\n",
       "        text-align: right;\n",
       "    }\n",
       "</style>\n",
       "<table border=\"1\" class=\"dataframe\">\n",
       "  <thead>\n",
       "    <tr style=\"text-align: right;\">\n",
       "      <th></th>\n",
       "      <th>0</th>\n",
       "      <th>1</th>\n",
       "      <th>2</th>\n",
       "      <th>3</th>\n",
       "      <th>4</th>\n",
       "    </tr>\n",
       "  </thead>\n",
       "  <tbody>\n",
       "    <tr>\n",
       "      <th>Age</th>\n",
       "      <td>75</td>\n",
       "      <td>56</td>\n",
       "      <td>54</td>\n",
       "      <td>55</td>\n",
       "      <td>75</td>\n",
       "    </tr>\n",
       "    <tr>\n",
       "      <th>Sex</th>\n",
       "      <td>0</td>\n",
       "      <td>1</td>\n",
       "      <td>0</td>\n",
       "      <td>0</td>\n",
       "      <td>0</td>\n",
       "    </tr>\n",
       "    <tr>\n",
       "      <th>Height</th>\n",
       "      <td>190</td>\n",
       "      <td>165</td>\n",
       "      <td>172</td>\n",
       "      <td>175</td>\n",
       "      <td>190</td>\n",
       "    </tr>\n",
       "    <tr>\n",
       "      <th>Weight</th>\n",
       "      <td>80</td>\n",
       "      <td>64</td>\n",
       "      <td>95</td>\n",
       "      <td>94</td>\n",
       "      <td>80</td>\n",
       "    </tr>\n",
       "    <tr>\n",
       "      <th>QRS_Dur</th>\n",
       "      <td>91</td>\n",
       "      <td>81</td>\n",
       "      <td>138</td>\n",
       "      <td>100</td>\n",
       "      <td>88</td>\n",
       "    </tr>\n",
       "    <tr>\n",
       "      <th>...</th>\n",
       "      <td>...</td>\n",
       "      <td>...</td>\n",
       "      <td>...</td>\n",
       "      <td>...</td>\n",
       "      <td>...</td>\n",
       "    </tr>\n",
       "    <tr>\n",
       "      <th>V6276</th>\n",
       "      <td>0.9</td>\n",
       "      <td>0.2</td>\n",
       "      <td>0.3</td>\n",
       "      <td>0.4</td>\n",
       "      <td>-0.1</td>\n",
       "    </tr>\n",
       "    <tr>\n",
       "      <th>V6277</th>\n",
       "      <td>2.9</td>\n",
       "      <td>2.1</td>\n",
       "      <td>3.4</td>\n",
       "      <td>2.6</td>\n",
       "      <td>3.9</td>\n",
       "    </tr>\n",
       "    <tr>\n",
       "      <th>V6278</th>\n",
       "      <td>23.3</td>\n",
       "      <td>20.4</td>\n",
       "      <td>12.3</td>\n",
       "      <td>34.6</td>\n",
       "      <td>25.4</td>\n",
       "    </tr>\n",
       "    <tr>\n",
       "      <th>V6279</th>\n",
       "      <td>49.4</td>\n",
       "      <td>38.8</td>\n",
       "      <td>49.0</td>\n",
       "      <td>61.6</td>\n",
       "      <td>62.8</td>\n",
       "    </tr>\n",
       "    <tr>\n",
       "      <th>Class</th>\n",
       "      <td>8</td>\n",
       "      <td>6</td>\n",
       "      <td>10</td>\n",
       "      <td>1</td>\n",
       "      <td>7</td>\n",
       "    </tr>\n",
       "  </tbody>\n",
       "</table>\n",
       "<p>280 rows × 5 columns</p>\n",
       "</div>"
      ],
      "text/plain": [
       "            0     1     2     3     4\n",
       "Age        75    56    54    55    75\n",
       "Sex         0     1     0     0     0\n",
       "Height    190   165   172   175   190\n",
       "Weight     80    64    95    94    80\n",
       "QRS_Dur    91    81   138   100    88\n",
       "...       ...   ...   ...   ...   ...\n",
       "V6276     0.9   0.2   0.3   0.4  -0.1\n",
       "V6277     2.9   2.1   3.4   2.6   3.9\n",
       "V6278    23.3  20.4  12.3  34.6  25.4\n",
       "V6279    49.4  38.8  49.0  61.6  62.8\n",
       "Class       8     6    10     1     7\n",
       "\n",
       "[280 rows x 5 columns]"
      ]
     },
     "execution_count": 15,
     "metadata": {},
     "output_type": "execute_result"
    }
   ],
   "source": [
    "df.head().transpose()"
   ]
  },
  {
   "cell_type": "code",
   "execution_count": 16,
   "id": "c6632ee1",
   "metadata": {},
   "outputs": [
    {
     "data": {
      "text/plain": [
       "(452, 280)"
      ]
     },
     "execution_count": 16,
     "metadata": {},
     "output_type": "execute_result"
    }
   ],
   "source": [
    "df.shape"
   ]
  },
  {
   "cell_type": "code",
   "execution_count": 17,
   "id": "a818644a",
   "metadata": {},
   "outputs": [
    {
     "name": "stdout",
     "output_type": "stream",
     "text": [
      "<class 'pandas.core.frame.DataFrame'>\n",
      "RangeIndex: 452 entries, 0 to 451\n",
      "Columns: 280 entries, Age to Class\n",
      "dtypes: float64(120), int64(155), object(5)\n",
      "memory usage: 988.9+ KB\n"
     ]
    }
   ],
   "source": [
    "#data type\n",
    "df.info()"
   ]
  },
  {
   "cell_type": "code",
   "execution_count": 18,
   "id": "f58db09c",
   "metadata": {},
   "outputs": [
    {
     "data": {
      "image/png": "[encoded data removed]",
      "text/plain": [
       "<Figure size 432x288 with 1 Axes>"
      ]
     },
     "metadata": {},
     "output_type": "display_data"
    }
   ],
   "source": [
    "sns.set()\n",
    "df[\"Class\"] = df[\"Class\"].astype(int)\n",
    "class_count=sns.countplot(x=\"Class\", data=df)\n",
    "plt.gca().set_xticklabels(['1','2' ,'3' ,'4', '5' , '6' ,'7','8' ,'9' ,'10'  ,'12' , '14', '15']);\n",
    "\n",
    "class_count.figure.savefig('class.png')"
   ]
  },
  {
   "cell_type": "markdown",
   "id": "ebbb0f4c",
   "metadata": {},
   "source": [
    "# identifiying missing values"
   ]
  },
  {
   "cell_type": "code",
   "execution_count": 19,
   "id": "6a38837c",
   "metadata": {},
   "outputs": [
    {
     "data": {
      "text/plain": [
       "408"
      ]
     },
     "execution_count": 19,
     "metadata": {},
     "output_type": "execute_result"
    }
   ],
   "source": [
    "df.isna().sum().sum()"
   ]
  },
  {
   "cell_type": "code",
   "execution_count": 20,
   "id": "95d98473",
   "metadata": {},
   "outputs": [
    {
     "data": {
      "image/png": "[encoded data removed]",
      "text/plain": [
       "<Figure size 432x288 with 1 Axes>"
      ]
     },
     "metadata": {},
     "output_type": "display_data"
    }
   ],
   "source": [
    "pd.isnull(df).sum()[0:25].plot(kind='bar')\n",
    "plt.xlabel('Attributes')\n",
    "plt.ylabel('Count of NaN');"
   ]
  },
  {
   "cell_type": "code",
   "execution_count": 21,
   "id": "f277fcc5",
   "metadata": {},
   "outputs": [
    {
     "data": {
      "text/plain": [
       "(452, 279)"
      ]
     },
     "execution_count": 21,
     "metadata": {},
     "output_type": "execute_result"
    }
   ],
   "source": [
    "df.dropna(thresh=0.5*len(df),axis=1,inplace=True)\n",
    "df.shape"
   ]
  },
  {
   "cell_type": "code",
   "execution_count": 22,
   "id": "2baf3306",
   "metadata": {},
   "outputs": [
    {
     "data": {
      "text/plain": [
       "32"
      ]
     },
     "execution_count": 22,
     "metadata": {},
     "output_type": "execute_result"
    }
   ],
   "source": [
    "df.isna().sum().sum()"
   ]
  },
  {
   "cell_type": "markdown",
   "id": "0845fafb",
   "metadata": {},
   "source": [
    "# get the numeric columns and fill the missing values"
   ]
  },
  {
   "cell_type": "code",
   "execution_count": 23,
   "id": "924daec7",
   "metadata": {},
   "outputs": [
    {
     "data": {
      "text/plain": [
       "0"
      ]
     },
     "execution_count": 23,
     "metadata": {},
     "output_type": "execute_result"
    }
   ],
   "source": [
    "df= df.fillna(df.mean().iloc[0])\n",
    "\n",
    "df.isna().sum().sum()"
   ]
  },
  {
   "cell_type": "code",
   "execution_count": null,
   "id": "45fa74c2",
   "metadata": {},
   "outputs": [],
   "source": [
    "g = sns.PairGrid(df, vars=['Age', 'Sex', 'Height', 'Weight'],\n",
    "                 hue='Sex', palette='RdBu_r')\n",
    "g.map(plt.scatter, alpha=0.8)\n",
    "g.add_legend();\n"
   ]
  },
  {
   "cell_type": "markdown",
   "id": "95718e41",
   "metadata": {},
   "source": [
    "# Normalize the scale"
   ]
  },
  {
   "cell_type": "code",
   "execution_count": 24,
   "id": "ec8dbe76",
   "metadata": {},
   "outputs": [],
   "source": [
    "sc=MinMaxScaler()\n",
    "df_scaled = pd.DataFrame(sc.fit_transform(df.drop('Class', axis=1)),columns = (df.drop('Class', axis=1)).columns)"
   ]
  },
  {
   "cell_type": "markdown",
   "id": "29f34c27",
   "metadata": {},
   "source": [
    "# 2. Constante and Quasi constante features Removal"
   ]
  },
  {
   "cell_type": "code",
   "execution_count": 25,
   "id": "7067a17d",
   "metadata": {},
   "outputs": [
    {
     "data": {
      "text/html": [
       "<div>\n",
       "<style scoped>\n",
       "    .dataframe tbody tr th:only-of-type {\n",
       "        vertical-align: middle;\n",
       "    }\n",
       "\n",
       "    .dataframe tbody tr th {\n",
       "        vertical-align: top;\n",
       "    }\n",
       "\n",
       "    .dataframe thead th {\n",
       "        text-align: right;\n",
       "    }\n",
       "</style>\n",
       "<table border=\"1\" class=\"dataframe\">\n",
       "  <thead>\n",
       "    <tr style=\"text-align: right;\">\n",
       "      <th></th>\n",
       "      <th>Desc</th>\n",
       "      <th>Var</th>\n",
       "      <th>Value</th>\n",
       "      <th>Perc</th>\n",
       "    </tr>\n",
       "  </thead>\n",
       "  <tbody>\n",
       "    <tr>\n",
       "      <th>0</th>\n",
       "      <td>Constant</td>\n",
       "      <td>V6275</td>\n",
       "      <td>0.0</td>\n",
       "      <td>100.000000</td>\n",
       "    </tr>\n",
       "    <tr>\n",
       "      <th>1</th>\n",
       "      <td>Constant</td>\n",
       "      <td>V5265</td>\n",
       "      <td>0.0</td>\n",
       "      <td>100.000000</td>\n",
       "    </tr>\n",
       "    <tr>\n",
       "      <th>2</th>\n",
       "      <td>Constant</td>\n",
       "      <td>V610</td>\n",
       "      <td>0.0</td>\n",
       "      <td>100.000000</td>\n",
       "    </tr>\n",
       "    <tr>\n",
       "      <th>3</th>\n",
       "      <td>Constant</td>\n",
       "      <td>V609</td>\n",
       "      <td>0.0</td>\n",
       "      <td>100.000000</td>\n",
       "    </tr>\n",
       "    <tr>\n",
       "      <th>4</th>\n",
       "      <td>Constant</td>\n",
       "      <td>V604</td>\n",
       "      <td>0.0</td>\n",
       "      <td>100.000000</td>\n",
       "    </tr>\n",
       "    <tr>\n",
       "      <th>5</th>\n",
       "      <td>Constant</td>\n",
       "      <td>V510</td>\n",
       "      <td>0.0</td>\n",
       "      <td>100.000000</td>\n",
       "    </tr>\n",
       "    <tr>\n",
       "      <th>6</th>\n",
       "      <td>Constant</td>\n",
       "      <td>V508</td>\n",
       "      <td>0.0</td>\n",
       "      <td>100.000000</td>\n",
       "    </tr>\n",
       "    <tr>\n",
       "      <th>7</th>\n",
       "      <td>Constant</td>\n",
       "      <td>V506</td>\n",
       "      <td>0.0</td>\n",
       "      <td>100.000000</td>\n",
       "    </tr>\n",
       "    <tr>\n",
       "      <th>8</th>\n",
       "      <td>Constant</td>\n",
       "      <td>V504</td>\n",
       "      <td>0.0</td>\n",
       "      <td>100.000000</td>\n",
       "    </tr>\n",
       "    <tr>\n",
       "      <th>9</th>\n",
       "      <td>Constant</td>\n",
       "      <td>V409</td>\n",
       "      <td>0.0</td>\n",
       "      <td>100.000000</td>\n",
       "    </tr>\n",
       "    <tr>\n",
       "      <th>10</th>\n",
       "      <td>Constant</td>\n",
       "      <td>V408</td>\n",
       "      <td>0.0</td>\n",
       "      <td>100.000000</td>\n",
       "    </tr>\n",
       "    <tr>\n",
       "      <th>11</th>\n",
       "      <td>Constant</td>\n",
       "      <td>AVL205</td>\n",
       "      <td>0.0</td>\n",
       "      <td>100.000000</td>\n",
       "    </tr>\n",
       "    <tr>\n",
       "      <th>12</th>\n",
       "      <td>Constant</td>\n",
       "      <td>S'_Wave</td>\n",
       "      <td>0.0</td>\n",
       "      <td>100.000000</td>\n",
       "    </tr>\n",
       "    <tr>\n",
       "      <th>13</th>\n",
       "      <td>Constant</td>\n",
       "      <td>AVF08</td>\n",
       "      <td>0.0</td>\n",
       "      <td>100.000000</td>\n",
       "    </tr>\n",
       "    <tr>\n",
       "      <th>14</th>\n",
       "      <td>Constant</td>\n",
       "      <td>AVL06</td>\n",
       "      <td>0.0</td>\n",
       "      <td>100.000000</td>\n",
       "    </tr>\n",
       "    <tr>\n",
       "      <th>15</th>\n",
       "      <td>Constant</td>\n",
       "      <td>AVL04</td>\n",
       "      <td>0.0</td>\n",
       "      <td>100.000000</td>\n",
       "    </tr>\n",
       "    <tr>\n",
       "      <th>16</th>\n",
       "      <td>Constant</td>\n",
       "      <td>S_Prime_Wave</td>\n",
       "      <td>0.0</td>\n",
       "      <td>100.000000</td>\n",
       "    </tr>\n",
       "    <tr>\n",
       "      <th>17</th>\n",
       "      <td>Quasi Constant</td>\n",
       "      <td>AVF10</td>\n",
       "      <td>0.0</td>\n",
       "      <td>99.778761</td>\n",
       "    </tr>\n",
       "    <tr>\n",
       "      <th>18</th>\n",
       "      <td>Quasi Constant</td>\n",
       "      <td>DIII06</td>\n",
       "      <td>0.0</td>\n",
       "      <td>99.778761</td>\n",
       "    </tr>\n",
       "    <tr>\n",
       "      <th>19</th>\n",
       "      <td>Quasi Constant</td>\n",
       "      <td>V509</td>\n",
       "      <td>0.0</td>\n",
       "      <td>99.778761</td>\n",
       "    </tr>\n",
       "    <tr>\n",
       "      <th>20</th>\n",
       "      <td>Quasi Constant</td>\n",
       "      <td>V606</td>\n",
       "      <td>0.0</td>\n",
       "      <td>99.778761</td>\n",
       "    </tr>\n",
       "    <tr>\n",
       "      <th>21</th>\n",
       "      <td>Quasi Constant</td>\n",
       "      <td>AVF11</td>\n",
       "      <td>0.0</td>\n",
       "      <td>99.778761</td>\n",
       "    </tr>\n",
       "    <tr>\n",
       "      <th>22</th>\n",
       "      <td>Quasi Constant</td>\n",
       "      <td>DIII08</td>\n",
       "      <td>0.0</td>\n",
       "      <td>99.778761</td>\n",
       "    </tr>\n",
       "    <tr>\n",
       "      <th>23</th>\n",
       "      <td>Quasi Constant</td>\n",
       "      <td>AVF09</td>\n",
       "      <td>0.0</td>\n",
       "      <td>99.778761</td>\n",
       "    </tr>\n",
       "    <tr>\n",
       "      <th>24</th>\n",
       "      <td>Quasi Constant</td>\n",
       "      <td>AVR04</td>\n",
       "      <td>0.0</td>\n",
       "      <td>99.778761</td>\n",
       "    </tr>\n",
       "    <tr>\n",
       "      <th>25</th>\n",
       "      <td>Quasi Constant</td>\n",
       "      <td>V607</td>\n",
       "      <td>0.0</td>\n",
       "      <td>99.778761</td>\n",
       "    </tr>\n",
       "    <tr>\n",
       "      <th>26</th>\n",
       "      <td>Quasi Constant</td>\n",
       "      <td>AVL11</td>\n",
       "      <td>0.0</td>\n",
       "      <td>99.778761</td>\n",
       "    </tr>\n",
       "    <tr>\n",
       "      <th>27</th>\n",
       "      <td>Quasi Constant</td>\n",
       "      <td>AVL09</td>\n",
       "      <td>0.0</td>\n",
       "      <td>99.778761</td>\n",
       "    </tr>\n",
       "    <tr>\n",
       "      <th>28</th>\n",
       "      <td>Quasi Constant</td>\n",
       "      <td>AVL08</td>\n",
       "      <td>0.0</td>\n",
       "      <td>99.778761</td>\n",
       "    </tr>\n",
       "    <tr>\n",
       "      <th>29</th>\n",
       "      <td>Quasi Constant</td>\n",
       "      <td>Rag_R_Nom</td>\n",
       "      <td>0.0</td>\n",
       "      <td>99.778761</td>\n",
       "    </tr>\n",
       "    <tr>\n",
       "      <th>30</th>\n",
       "      <td>Quasi Constant</td>\n",
       "      <td>AVR195</td>\n",
       "      <td>1.0</td>\n",
       "      <td>99.778761</td>\n",
       "    </tr>\n",
       "    <tr>\n",
       "      <th>31</th>\n",
       "      <td>Quasi Constant</td>\n",
       "      <td>DII08</td>\n",
       "      <td>0.0</td>\n",
       "      <td>99.778761</td>\n",
       "    </tr>\n",
       "    <tr>\n",
       "      <th>32</th>\n",
       "      <td>Quasi Constant</td>\n",
       "      <td>DII09</td>\n",
       "      <td>0.0</td>\n",
       "      <td>99.557522</td>\n",
       "    </tr>\n",
       "    <tr>\n",
       "      <th>33</th>\n",
       "      <td>Quasi Constant</td>\n",
       "      <td>V406</td>\n",
       "      <td>0.0</td>\n",
       "      <td>99.557522</td>\n",
       "    </tr>\n",
       "    <tr>\n",
       "      <th>34</th>\n",
       "      <td>Quasi Constant</td>\n",
       "      <td>DII10</td>\n",
       "      <td>0.0</td>\n",
       "      <td>99.557522</td>\n",
       "    </tr>\n",
       "    <tr>\n",
       "      <th>35</th>\n",
       "      <td>Quasi Constant</td>\n",
       "      <td>V410</td>\n",
       "      <td>0.0</td>\n",
       "      <td>99.557522</td>\n",
       "    </tr>\n",
       "    <tr>\n",
       "      <th>36</th>\n",
       "      <td>Quasi Constant</td>\n",
       "      <td>AVR10</td>\n",
       "      <td>0.0</td>\n",
       "      <td>99.557522</td>\n",
       "    </tr>\n",
       "    <tr>\n",
       "      <th>37</th>\n",
       "      <td>Quasi Constant</td>\n",
       "      <td>DII04</td>\n",
       "      <td>0.0</td>\n",
       "      <td>99.557522</td>\n",
       "    </tr>\n",
       "    <tr>\n",
       "      <th>38</th>\n",
       "      <td>Quasi Constant</td>\n",
       "      <td>Rag_T_Nom</td>\n",
       "      <td>0.0</td>\n",
       "      <td>99.557522</td>\n",
       "    </tr>\n",
       "    <tr>\n",
       "      <th>39</th>\n",
       "      <td>Quasi Constant</td>\n",
       "      <td>V608</td>\n",
       "      <td>0.0</td>\n",
       "      <td>99.557522</td>\n",
       "    </tr>\n",
       "    <tr>\n",
       "      <th>40</th>\n",
       "      <td>Quasi Constant</td>\n",
       "      <td>Diph_P_Nom</td>\n",
       "      <td>0.0</td>\n",
       "      <td>99.557522</td>\n",
       "    </tr>\n",
       "    <tr>\n",
       "      <th>41</th>\n",
       "      <td>Quasi Constant</td>\n",
       "      <td>V404</td>\n",
       "      <td>0.0</td>\n",
       "      <td>99.557522</td>\n",
       "    </tr>\n",
       "    <tr>\n",
       "      <th>42</th>\n",
       "      <td>Quasi Constant</td>\n",
       "      <td>V307</td>\n",
       "      <td>0.0</td>\n",
       "      <td>99.557522</td>\n",
       "    </tr>\n",
       "    <tr>\n",
       "      <th>43</th>\n",
       "      <td>Quasi Constant</td>\n",
       "      <td>DII175</td>\n",
       "      <td>1.0</td>\n",
       "      <td>99.557522</td>\n",
       "    </tr>\n",
       "    <tr>\n",
       "      <th>44</th>\n",
       "      <td>Quasi Constant</td>\n",
       "      <td>V3245</td>\n",
       "      <td>1.0</td>\n",
       "      <td>99.557522</td>\n",
       "    </tr>\n",
       "    <tr>\n",
       "      <th>45</th>\n",
       "      <td>Quasi Constant</td>\n",
       "      <td>AVR08</td>\n",
       "      <td>0.0</td>\n",
       "      <td>99.557522</td>\n",
       "    </tr>\n",
       "    <tr>\n",
       "      <th>46</th>\n",
       "      <td>Quasi Constant</td>\n",
       "      <td>AVR07</td>\n",
       "      <td>0.0</td>\n",
       "      <td>99.557522</td>\n",
       "    </tr>\n",
       "    <tr>\n",
       "      <th>47</th>\n",
       "      <td>Quasi Constant</td>\n",
       "      <td>AVF06</td>\n",
       "      <td>0.0</td>\n",
       "      <td>99.557522</td>\n",
       "    </tr>\n",
       "    <tr>\n",
       "      <th>48</th>\n",
       "      <td>Quasi Constant</td>\n",
       "      <td>V4255</td>\n",
       "      <td>1.0</td>\n",
       "      <td>99.557522</td>\n",
       "    </tr>\n",
       "    <tr>\n",
       "      <th>49</th>\n",
       "      <td>Quasi Constant</td>\n",
       "      <td>AVR09</td>\n",
       "      <td>0.0</td>\n",
       "      <td>99.557522</td>\n",
       "    </tr>\n",
       "    <tr>\n",
       "      <th>50</th>\n",
       "      <td>Quasi Constant</td>\n",
       "      <td>V304</td>\n",
       "      <td>0.0</td>\n",
       "      <td>99.557522</td>\n",
       "    </tr>\n",
       "    <tr>\n",
       "      <th>51</th>\n",
       "      <td>Quasi Constant</td>\n",
       "      <td>DIII11</td>\n",
       "      <td>0.0</td>\n",
       "      <td>99.557522</td>\n",
       "    </tr>\n",
       "    <tr>\n",
       "      <th>52</th>\n",
       "      <td>Quasi Constant</td>\n",
       "      <td>V1225</td>\n",
       "      <td>1.0</td>\n",
       "      <td>99.336283</td>\n",
       "    </tr>\n",
       "    <tr>\n",
       "      <th>53</th>\n",
       "      <td>Quasi Constant</td>\n",
       "      <td>V106</td>\n",
       "      <td>0.0</td>\n",
       "      <td>99.336283</td>\n",
       "    </tr>\n",
       "    <tr>\n",
       "      <th>54</th>\n",
       "      <td>Quasi Constant</td>\n",
       "      <td>AVL10</td>\n",
       "      <td>0.0</td>\n",
       "      <td>99.336283</td>\n",
       "    </tr>\n",
       "    <tr>\n",
       "      <th>55</th>\n",
       "      <td>Quasi Constant</td>\n",
       "      <td>AVF04</td>\n",
       "      <td>0.0</td>\n",
       "      <td>99.336283</td>\n",
       "    </tr>\n",
       "    <tr>\n",
       "      <th>56</th>\n",
       "      <td>Quasi Constant</td>\n",
       "      <td>AVF215</td>\n",
       "      <td>1.0</td>\n",
       "      <td>99.336283</td>\n",
       "    </tr>\n",
       "    <tr>\n",
       "      <th>57</th>\n",
       "      <td>Quasi Constant</td>\n",
       "      <td>V104</td>\n",
       "      <td>0.0</td>\n",
       "      <td>99.336283</td>\n",
       "    </tr>\n",
       "    <tr>\n",
       "      <th>58</th>\n",
       "      <td>Quasi Constant</td>\n",
       "      <td>V603</td>\n",
       "      <td>0.0</td>\n",
       "      <td>99.336283</td>\n",
       "    </tr>\n",
       "    <tr>\n",
       "      <th>59</th>\n",
       "      <td>Quasi Constant</td>\n",
       "      <td>V2235</td>\n",
       "      <td>1.0</td>\n",
       "      <td>99.336283</td>\n",
       "    </tr>\n",
       "    <tr>\n",
       "      <th>60</th>\n",
       "      <td>Quasi Constant</td>\n",
       "      <td>V511</td>\n",
       "      <td>0.0</td>\n",
       "      <td>99.336283</td>\n",
       "    </tr>\n",
       "    <tr>\n",
       "      <th>61</th>\n",
       "      <td>Quasi Constant</td>\n",
       "      <td>V6274</td>\n",
       "      <td>0.0</td>\n",
       "      <td>99.336283</td>\n",
       "    </tr>\n",
       "    <tr>\n",
       "      <th>62</th>\n",
       "      <td>Quasi Constant</td>\n",
       "      <td>V310</td>\n",
       "      <td>0.0</td>\n",
       "      <td>99.336283</td>\n",
       "    </tr>\n",
       "    <tr>\n",
       "      <th>63</th>\n",
       "      <td>Quasi Constant</td>\n",
       "      <td>V507</td>\n",
       "      <td>0.0</td>\n",
       "      <td>99.336283</td>\n",
       "    </tr>\n",
       "    <tr>\n",
       "      <th>64</th>\n",
       "      <td>Quasi Constant</td>\n",
       "      <td>V204</td>\n",
       "      <td>0.0</td>\n",
       "      <td>99.336283</td>\n",
       "    </tr>\n",
       "    <tr>\n",
       "      <th>65</th>\n",
       "      <td>Quasi Constant</td>\n",
       "      <td>V308</td>\n",
       "      <td>0.0</td>\n",
       "      <td>99.336283</td>\n",
       "    </tr>\n",
       "    <tr>\n",
       "      <th>66</th>\n",
       "      <td>Quasi Constant</td>\n",
       "      <td>R'_Wave</td>\n",
       "      <td>0.0</td>\n",
       "      <td>99.115044</td>\n",
       "    </tr>\n",
       "    <tr>\n",
       "      <th>67</th>\n",
       "      <td>Quasi Constant</td>\n",
       "      <td>R_Prime_Wave</td>\n",
       "      <td>0.0</td>\n",
       "      <td>99.115044</td>\n",
       "    </tr>\n",
       "    <tr>\n",
       "      <th>68</th>\n",
       "      <td>Quasi Constant</td>\n",
       "      <td>V309</td>\n",
       "      <td>0.0</td>\n",
       "      <td>99.115044</td>\n",
       "    </tr>\n",
       "    <tr>\n",
       "      <th>69</th>\n",
       "      <td>Quasi Constant</td>\n",
       "      <td>V210</td>\n",
       "      <td>0.0</td>\n",
       "      <td>99.115044</td>\n",
       "    </tr>\n",
       "    <tr>\n",
       "      <th>70</th>\n",
       "      <td>Quasi Constant</td>\n",
       "      <td>V207</td>\n",
       "      <td>0.0</td>\n",
       "      <td>99.115044</td>\n",
       "    </tr>\n",
       "    <tr>\n",
       "      <th>71</th>\n",
       "      <td>Quasi Constant</td>\n",
       "      <td>V206</td>\n",
       "      <td>0.0</td>\n",
       "      <td>99.115044</td>\n",
       "    </tr>\n",
       "    <tr>\n",
       "      <th>72</th>\n",
       "      <td>Quasi Constant</td>\n",
       "      <td>V109</td>\n",
       "      <td>0.0</td>\n",
       "      <td>99.115044</td>\n",
       "    </tr>\n",
       "    <tr>\n",
       "      <th>73</th>\n",
       "      <td>Quasi Constant</td>\n",
       "      <td>V108</td>\n",
       "      <td>0.0</td>\n",
       "      <td>99.115044</td>\n",
       "    </tr>\n",
       "    <tr>\n",
       "      <th>74</th>\n",
       "      <td>Quasi Constant</td>\n",
       "      <td>AVR11</td>\n",
       "      <td>0.0</td>\n",
       "      <td>99.115044</td>\n",
       "    </tr>\n",
       "    <tr>\n",
       "      <th>75</th>\n",
       "      <td>Quasi Constant</td>\n",
       "      <td>Diph_T_Nom</td>\n",
       "      <td>0.0</td>\n",
       "      <td>99.115044</td>\n",
       "    </tr>\n",
       "    <tr>\n",
       "      <th>76</th>\n",
       "      <td>Quasi Constant</td>\n",
       "      <td>V209</td>\n",
       "      <td>0.0</td>\n",
       "      <td>99.115044</td>\n",
       "    </tr>\n",
       "  </tbody>\n",
       "</table>\n",
       "</div>"
      ],
      "text/plain": [
       "              Desc           Var  Value        Perc\n",
       "0         Constant         V6275    0.0  100.000000\n",
       "1         Constant         V5265    0.0  100.000000\n",
       "2         Constant          V610    0.0  100.000000\n",
       "3         Constant          V609    0.0  100.000000\n",
       "4         Constant          V604    0.0  100.000000\n",
       "5         Constant          V510    0.0  100.000000\n",
       "6         Constant          V508    0.0  100.000000\n",
       "7         Constant          V506    0.0  100.000000\n",
       "8         Constant          V504    0.0  100.000000\n",
       "9         Constant          V409    0.0  100.000000\n",
       "10        Constant          V408    0.0  100.000000\n",
       "11        Constant        AVL205    0.0  100.000000\n",
       "12        Constant       S'_Wave    0.0  100.000000\n",
       "13        Constant         AVF08    0.0  100.000000\n",
       "14        Constant         AVL06    0.0  100.000000\n",
       "15        Constant         AVL04    0.0  100.000000\n",
       "16        Constant  S_Prime_Wave    0.0  100.000000\n",
       "17  Quasi Constant         AVF10    0.0   99.778761\n",
       "18  Quasi Constant        DIII06    0.0   99.778761\n",
       "19  Quasi Constant          V509    0.0   99.778761\n",
       "20  Quasi Constant          V606    0.0   99.778761\n",
       "21  Quasi Constant         AVF11    0.0   99.778761\n",
       "22  Quasi Constant        DIII08    0.0   99.778761\n",
       "23  Quasi Constant         AVF09    0.0   99.778761\n",
       "24  Quasi Constant         AVR04    0.0   99.778761\n",
       "25  Quasi Constant          V607    0.0   99.778761\n",
       "26  Quasi Constant         AVL11    0.0   99.778761\n",
       "27  Quasi Constant         AVL09    0.0   99.778761\n",
       "28  Quasi Constant         AVL08    0.0   99.778761\n",
       "29  Quasi Constant     Rag_R_Nom    0.0   99.778761\n",
       "30  Quasi Constant        AVR195    1.0   99.778761\n",
       "31  Quasi Constant         DII08    0.0   99.778761\n",
       "32  Quasi Constant         DII09    0.0   99.557522\n",
       "33  Quasi Constant          V406    0.0   99.557522\n",
       "34  Quasi Constant         DII10    0.0   99.557522\n",
       "35  Quasi Constant          V410    0.0   99.557522\n",
       "36  Quasi Constant         AVR10    0.0   99.557522\n",
       "37  Quasi Constant         DII04    0.0   99.557522\n",
       "38  Quasi Constant     Rag_T_Nom    0.0   99.557522\n",
       "39  Quasi Constant          V608    0.0   99.557522\n",
       "40  Quasi Constant    Diph_P_Nom    0.0   99.557522\n",
       "41  Quasi Constant          V404    0.0   99.557522\n",
       "42  Quasi Constant          V307    0.0   99.557522\n",
       "43  Quasi Constant        DII175    1.0   99.557522\n",
       "44  Quasi Constant         V3245    1.0   99.557522\n",
       "45  Quasi Constant         AVR08    0.0   99.557522\n",
       "46  Quasi Constant         AVR07    0.0   99.557522\n",
       "47  Quasi Constant         AVF06    0.0   99.557522\n",
       "48  Quasi Constant         V4255    1.0   99.557522\n",
       "49  Quasi Constant         AVR09    0.0   99.557522\n",
       "50  Quasi Constant          V304    0.0   99.557522\n",
       "51  Quasi Constant        DIII11    0.0   99.557522\n",
       "52  Quasi Constant         V1225    1.0   99.336283\n",
       "53  Quasi Constant          V106    0.0   99.336283\n",
       "54  Quasi Constant         AVL10    0.0   99.336283\n",
       "55  Quasi Constant         AVF04    0.0   99.336283\n",
       "56  Quasi Constant        AVF215    1.0   99.336283\n",
       "57  Quasi Constant          V104    0.0   99.336283\n",
       "58  Quasi Constant          V603    0.0   99.336283\n",
       "59  Quasi Constant         V2235    1.0   99.336283\n",
       "60  Quasi Constant          V511    0.0   99.336283\n",
       "61  Quasi Constant         V6274    0.0   99.336283\n",
       "62  Quasi Constant          V310    0.0   99.336283\n",
       "63  Quasi Constant          V507    0.0   99.336283\n",
       "64  Quasi Constant          V204    0.0   99.336283\n",
       "65  Quasi Constant          V308    0.0   99.336283\n",
       "66  Quasi Constant       R'_Wave    0.0   99.115044\n",
       "67  Quasi Constant  R_Prime_Wave    0.0   99.115044\n",
       "68  Quasi Constant          V309    0.0   99.115044\n",
       "69  Quasi Constant          V210    0.0   99.115044\n",
       "70  Quasi Constant          V207    0.0   99.115044\n",
       "71  Quasi Constant          V206    0.0   99.115044\n",
       "72  Quasi Constant          V109    0.0   99.115044\n",
       "73  Quasi Constant          V108    0.0   99.115044\n",
       "74  Quasi Constant         AVR11    0.0   99.115044\n",
       "75  Quasi Constant    Diph_T_Nom    0.0   99.115044\n",
       "76  Quasi Constant          V209    0.0   99.115044"
      ]
     },
     "metadata": {},
     "output_type": "display_data"
    }
   ],
   "source": [
    "from fast_ml.utilities import display_all\n",
    "from fast_ml.feature_selection import get_constant_features\n",
    "\n",
    "# Use the function to get the results in dataframe\n",
    "constant_features = get_constant_features(df_scaled)\n",
    "display_all(constant_features)"
   ]
  },
  {
   "cell_type": "code",
   "execution_count": 26,
   "id": "b3650b0f",
   "metadata": {},
   "outputs": [],
   "source": [
    "# All the constant features stored in a list\n",
    "constant_features_list = constant_features['Var'].to_list()"
   ]
  },
  {
   "cell_type": "code",
   "execution_count": 27,
   "id": "28191f9b",
   "metadata": {},
   "outputs": [],
   "source": [
    "# Drop all the constant features from the dataset\n",
    "df_scaled.drop(columns = constant_features_list, inplace=True)"
   ]
  },
  {
   "cell_type": "markdown",
   "id": "eae21585",
   "metadata": {},
   "source": [
    "# 2.1 Feature Selection"
   ]
  },
  {
   "cell_type": "code",
   "execution_count": 136,
   "id": "c228ee51",
   "metadata": {},
   "outputs": [],
   "source": [
    "from sklearn.feature_selection import f_classif, SelectKBest\n",
    "fs = SelectKBest(score_func=f_classif,k=79)"
   ]
  },
  {
   "cell_type": "code",
   "execution_count": 137,
   "id": "372b3d34",
   "metadata": {},
   "outputs": [],
   "source": [
    "X_selected = fs.fit_transform(df_scaled, df[\"Class\"])"
   ]
  },
  {
   "cell_type": "code",
   "execution_count": 138,
   "id": "0e3603d6",
   "metadata": {},
   "outputs": [
    {
     "data": {
      "text/plain": [
       "array([101.51397557,  60.55653324,  35.97760367,  33.08298688,\n",
       "        32.22028272,  31.44821032,  30.4154651 ,  29.58064927,\n",
       "        26.5653909 ,  25.63613499,  25.02716433,  24.57714375,\n",
       "        23.27009439,  22.84284136,  22.77402898,  22.47761747,\n",
       "        22.36837798,  21.95560014,  21.59859739,  21.20095719,\n",
       "        20.91054724,  20.41392323,  18.99026818,  18.97032573,\n",
       "        16.26342978,  15.96064364,  15.33070001,  14.98273737,\n",
       "        14.72404555,  14.46075349,  14.39627828,  14.14234521,\n",
       "        14.01289558,  13.93285019,  13.81659477,  13.73912293,\n",
       "        13.69353973,  12.81286788,  12.7548886 ,  12.61320698,\n",
       "        12.59714005,  12.10780115,  11.96030436,  11.76417633,\n",
       "        11.43193477,  10.90997822,  10.54946945,  10.39735695,\n",
       "        10.34597695,  10.26065397,  10.12749725,  10.10263338,\n",
       "        10.04813534,   9.67375557,   9.56611904,   9.3916062 ,\n",
       "         9.2792431 ,   8.93630327,   8.81765191,   8.68772197,\n",
       "         8.55629506,   8.510821  ,   8.47563219,   8.4047446 ,\n",
       "         8.39093775,   8.38451506,   8.33009762,   8.23013074,\n",
       "         8.17818784,   7.85230781,   7.49980939,   7.47967605,\n",
       "         7.46386702,   7.4591391 ,   7.33560521,   7.33024704,\n",
       "         7.31881207,   7.21648354,   7.03816731,   7.00707666,\n",
       "         6.92192427,   6.80304787,   6.75565118,   6.66748814,\n",
       "         6.65139569,   6.54562982,   6.49885829,   6.49209093,\n",
       "         6.46317626,   6.3209605 ,   6.24953323,   6.23729076,\n",
       "         6.17863793,   6.08505841,   6.06342748,   6.03663403,\n",
       "         5.92189551,   5.83021559,   5.67856188,   5.57228144,\n",
       "         5.5513664 ,   5.50341018,   5.35399207,   5.34810158,\n",
       "         5.33083359,   5.29664026,   5.25437556,   5.13434681,\n",
       "         5.08908793,   4.93636689,   4.87492624,   4.79354888,\n",
       "         4.76211837,   4.71256752,   4.60512108,   4.49820893,\n",
       "         4.48616416,   4.47732281,   4.4580983 ,   4.44849536,\n",
       "         4.34944068,   4.32151399,   4.3163934 ,   4.19552225,\n",
       "         4.14879517,   4.14544912,   3.9728504 ,   3.86177122,\n",
       "         3.8380024 ,   3.81805633,   3.81407549,   3.770542  ,\n",
       "         3.75905126,   3.72818852,   3.63504035,   3.60268487,\n",
       "         3.53859359,   3.5082161 ,   3.49694792,   3.47758823,\n",
       "         3.45652618,   3.44774065,   3.38930434,   3.3773713 ,\n",
       "         3.32571624,   3.1943176 ,   3.10011578,   3.05402315,\n",
       "         3.04557337,   3.02552683,   2.99601051,   2.98211873,\n",
       "         2.9423196 ,   2.93452264,   2.92326949,   2.90719491,\n",
       "         2.89477023,   2.85350535,   2.82767785,   2.71397194,\n",
       "         2.66859237,   2.66367813,   2.59283434,   2.59008854,\n",
       "         2.55818131,   2.47200493,   2.46327691,   2.45714666,\n",
       "         2.45420719,   2.36834232,   2.29738066,   2.29573867,\n",
       "         2.21331052,   2.15746287,   2.15432389,   2.1259974 ,\n",
       "         1.93051241,   1.77595912,   1.46139145,   1.23537518,\n",
       "         1.17439805,   1.13244485,   1.11195693,   1.10280207,\n",
       "         1.0829859 ,   0.99712634,   0.90931386,   0.89280214,\n",
       "         0.87312995,   0.85699444,   0.82606514,   0.74558814,\n",
       "         0.70673181,   0.66425127,   0.66356839,   0.49035632,\n",
       "         0.381646  ,   0.33778404,   0.2437192 ,   0.20800008,\n",
       "         0.20406658])"
      ]
     },
     "execution_count": 138,
     "metadata": {},
     "output_type": "execute_result"
    }
   ],
   "source": [
    "np.sort(fs.scores_)[::-1]"
   ]
  },
  {
   "cell_type": "code",
   "execution_count": 139,
   "id": "7626bb77",
   "metadata": {},
   "outputs": [
    {
     "data": {
      "text/plain": [
       "(452, 79)"
      ]
     },
     "execution_count": 139,
     "metadata": {},
     "output_type": "execute_result"
    }
   ],
   "source": [
    "X_selected.shape"
   ]
  },
  {
   "cell_type": "code",
   "execution_count": null,
   "id": "46986a15",
   "metadata": {},
   "outputs": [],
   "source": [
    "correlation = df_scaled.corr()\n",
    "plt.subplots(figsize = (30,10))\n",
    "sns.heatmap(correlation.round(2), \n",
    "            annot = True, \n",
    "            vmax = 1, \n",
    "            square = True, \n",
    "            cmap = 'RdYlGn_r')\n",
    "plt.show()"
   ]
  },
  {
   "cell_type": "markdown",
   "id": "058f9226",
   "metadata": {},
   "source": [
    "# 3. KFold Train, Test and Validation"
   ]
  },
  {
   "cell_type": "code",
   "execution_count": 140,
   "id": "08d25fba",
   "metadata": {},
   "outputs": [],
   "source": [
    "from sklearn.neighbors import KNeighborsClassifier\n",
    "from sklearn.svm import SVC\n",
    "from sklearn.naive_bayes import GaussianNB\n",
    "from sklearn.tree import DecisionTreeClassifier\n",
    "\n",
    "from sklearn.model_selection import cross_val_score, cross_validate \n",
    "from sklearn.model_selection import KFold\n",
    "\n",
    "from sklearn.metrics import make_scorer, accuracy_score, precision_score, recall_score, f1_score"
   ]
  },
  {
   "cell_type": "code",
   "execution_count": 141,
   "id": "1aa8d21d",
   "metadata": {},
   "outputs": [],
   "source": [
    "cv = KFold(n_splits=5, shuffle=True)"
   ]
  },
  {
   "cell_type": "markdown",
   "id": "b2611152",
   "metadata": {},
   "source": [
    "# KNN"
   ]
  },
  {
   "cell_type": "code",
   "execution_count": 142,
   "id": "303c4917",
   "metadata": {},
   "outputs": [],
   "source": [
    "accuracy = []    \n",
    "precision = []   \n",
    "recall = []      \n",
    "f1score = []    \n",
    "\n",
    "\n",
    "for i in range(31):\n",
    "    accuracy.append(cross_val_score(KNeighborsClassifier(),X_selected,df[\"Class\"],cv=cv, scoring = make_scorer(accuracy_score)))\n",
    "    precision.append(cross_val_score(KNeighborsClassifier(),X_selected,df[\"Class\"],cv=cv, scoring = make_scorer(precision_score,average='micro'))) \n",
    "    recall.append(cross_val_score(KNeighborsClassifier(),X_selected,df[\"Class\"],cv=cv, scoring = make_scorer(recall_score,average='micro'))) \n",
    "    f1score.append(cross_val_score(KNeighborsClassifier(),X_selected,df[\"Class\"],cv=cv, scoring = make_scorer(f1_score,average='micro'))) "
   ]
  },
  {
   "cell_type": "code",
   "execution_count": 143,
   "id": "ebdee6ac",
   "metadata": {},
   "outputs": [],
   "source": [
    "X11= np.max(accuracy)\n",
    "X12= np.min(accuracy)\n",
    "X13= np.std(accuracy)\n",
    "X14= np.mean(accuracy)"
   ]
  },
  {
   "cell_type": "code",
   "execution_count": 144,
   "id": "6f5fea88",
   "metadata": {},
   "outputs": [],
   "source": [
    "Y11= np.max(precision)\n",
    "Y12= np.min(precision)\n",
    "Y13= np.std(precision)\n",
    "Y14= np.mean(precision)"
   ]
  },
  {
   "cell_type": "code",
   "execution_count": 145,
   "id": "6d1b1f32",
   "metadata": {},
   "outputs": [],
   "source": [
    "Z11= np.max(recall)\n",
    "Z12= np.min(recall)\n",
    "Z13= np.std(recall)\n",
    "Z14= np.mean(recall)"
   ]
  },
  {
   "cell_type": "code",
   "execution_count": 146,
   "id": "68a784f3",
   "metadata": {},
   "outputs": [],
   "source": [
    "F11= np.max(f1score)\n",
    "F12= np.min(f1score)\n",
    "F13= np.std(f1score)\n",
    "F14= np.mean(f1score)"
   ]
  },
  {
   "cell_type": "markdown",
   "id": "198a28be",
   "metadata": {},
   "source": [
    "# SVM"
   ]
  },
  {
   "cell_type": "code",
   "execution_count": 147,
   "id": "aee88050",
   "metadata": {},
   "outputs": [],
   "source": [
    "accuracy = []    #make_scorer(accuracy_score)\n",
    "precision = []   #make_scorer(precision_score)\n",
    "recall = []      #make_scorer(recall_score)\n",
    "f1score = []    #make_scorer(f1_score)\n",
    "\n",
    "for i in range(31):\n",
    "    accuracy.append(cross_val_score(SVC(),X_selected,df[\"Class\"],cv=cv, scoring = make_scorer(accuracy_score)))\n",
    "    precision.append(cross_val_score(SVC(),X_selected,df[\"Class\"],cv=cv, scoring = make_scorer(precision_score,average='micro'))) \n",
    "    recall.append(cross_val_score(SVC(),X_selected,df[\"Class\"],cv=cv, scoring = make_scorer(recall_score,average='micro'))) \n",
    "    f1score.append(cross_val_score(SVC(),X_selected,df[\"Class\"],cv=cv, scoring =  make_scorer(f1_score,average='micro'))) "
   ]
  },
  {
   "cell_type": "code",
   "execution_count": 148,
   "id": "ea84fd82",
   "metadata": {},
   "outputs": [],
   "source": [
    "X21= np.max(accuracy)\n",
    "X22= np.min(accuracy)\n",
    "X23= np.std(accuracy)\n",
    "X24= np.mean(accuracy)"
   ]
  },
  {
   "cell_type": "code",
   "execution_count": 149,
   "id": "ec268912",
   "metadata": {},
   "outputs": [],
   "source": [
    "Y21= np.max(precision)\n",
    "Y22= np.min(precision)\n",
    "Y23= np.std(precision)\n",
    "Y24= np.mean(precision)"
   ]
  },
  {
   "cell_type": "code",
   "execution_count": 150,
   "id": "d6f9bcf1",
   "metadata": {},
   "outputs": [],
   "source": [
    "Z21= np.max(recall)\n",
    "Z22= np.min(recall)\n",
    "Z23= np.std(recall)\n",
    "Z24= np.mean(recall)"
   ]
  },
  {
   "cell_type": "code",
   "execution_count": 151,
   "id": "f5d8220d",
   "metadata": {},
   "outputs": [],
   "source": [
    "F21= np.max(f1score)\n",
    "F22= np.min(f1score)\n",
    "F23= np.std(f1score)\n",
    "F24= np.mean(f1score)"
   ]
  },
  {
   "cell_type": "markdown",
   "id": "1f07c17f",
   "metadata": {},
   "source": [
    "# Bayes"
   ]
  },
  {
   "cell_type": "code",
   "execution_count": 152,
   "id": "d06f9ae7",
   "metadata": {},
   "outputs": [],
   "source": [
    "accuracy = []    #make_scorer(accuracy_score)\n",
    "precision = []   #make_scorer(precision_score)\n",
    "recall = []      #make_scorer(recall_score)\n",
    "f1score = []    #make_scorer(f1_score)\n",
    "\n",
    "\n",
    "for i in range(31):\n",
    "    accuracy.append(cross_val_score(GaussianNB(),X_selected,df[\"Class\"],cv=cv, scoring = make_scorer(accuracy_score)))\n",
    "    precision.append(cross_val_score(GaussianNB(),X_selected,df[\"Class\"],cv=cv, scoring = make_scorer(precision_score,average='micro'))) \n",
    "    recall.append(cross_val_score(GaussianNB(),X_selected,df[\"Class\"],cv=cv, scoring = make_scorer(recall_score,average='micro'))) \n",
    "    f1score.append(cross_val_score(GaussianNB(),X_selected,df[\"Class\"],cv=cv, scoring = make_scorer(f1_score,average='micro'))) "
   ]
  },
  {
   "cell_type": "code",
   "execution_count": 153,
   "id": "577184bc",
   "metadata": {},
   "outputs": [],
   "source": [
    "X31= np.max(accuracy)\n",
    "X32= np.min(accuracy)\n",
    "X33= np.std(accuracy)\n",
    "X34= np.mean(accuracy)"
   ]
  },
  {
   "cell_type": "code",
   "execution_count": 154,
   "id": "9523e33a",
   "metadata": {},
   "outputs": [],
   "source": [
    "Y31= np.max(precision)\n",
    "Y32= np.min(precision)\n",
    "Y33= np.std(precision)\n",
    "Y34= np.mean(precision)"
   ]
  },
  {
   "cell_type": "code",
   "execution_count": 155,
   "id": "3114959e",
   "metadata": {},
   "outputs": [],
   "source": [
    "Z31= np.max(recall)\n",
    "Z32= np.min(recall)\n",
    "Z33= np.std(recall)\n",
    "Z34= np.mean(recall)"
   ]
  },
  {
   "cell_type": "code",
   "execution_count": 156,
   "id": "2637d045",
   "metadata": {},
   "outputs": [],
   "source": [
    "F31= np.max(f1score)\n",
    "F32= np.min(f1score)\n",
    "F33= np.std(f1score)\n",
    "F34= np.mean(f1score)"
   ]
  },
  {
   "cell_type": "markdown",
   "id": "9cf13ae7",
   "metadata": {},
   "source": [
    "# Arbre de decision"
   ]
  },
  {
   "cell_type": "code",
   "execution_count": 157,
   "id": "64b3c38f",
   "metadata": {},
   "outputs": [],
   "source": [
    "accuracy = []    #make_scorer(accuracy_score)\n",
    "precision = []   #make_scorer(precision_score)\n",
    "recall = []      #make_scorer(recall_score)\n",
    "f1score = []    #make_scorer(f1_score)\n",
    "\n",
    "\n",
    "for i in range(31):\n",
    "    accuracy.append(cross_val_score(DecisionTreeClassifier(),X_selected,df[\"Class\"],cv=cv, scoring = make_scorer(accuracy_score)))\n",
    "    precision.append(cross_val_score(DecisionTreeClassifier(),X_selected,df[\"Class\"],cv=cv, scoring = make_scorer(precision_score,average='micro'))) \n",
    "    recall.append(cross_val_score(DecisionTreeClassifier(),X_selected,df[\"Class\"],cv=cv, scoring = make_scorer(recall_score,average='micro'))) \n",
    "    f1score.append(cross_val_score(DecisionTreeClassifier(),X_selected,df[\"Class\"],cv=cv, scoring = make_scorer(f1_score,average='micro'))) "
   ]
  },
  {
   "cell_type": "code",
   "execution_count": 158,
   "id": "92bd1e28",
   "metadata": {},
   "outputs": [],
   "source": [
    "X41= np.max(accuracy)\n",
    "X42= np.min(accuracy)\n",
    "X43= np.std(accuracy)\n",
    "X44= np.mean(accuracy)"
   ]
  },
  {
   "cell_type": "code",
   "execution_count": 159,
   "id": "6c4c14e0",
   "metadata": {},
   "outputs": [],
   "source": [
    "Y41= np.max(precision)\n",
    "Y42= np.min(precision)\n",
    "Y43= np.std(precision)\n",
    "Y44= np.mean(precision)"
   ]
  },
  {
   "cell_type": "code",
   "execution_count": 160,
   "id": "e3cf920a",
   "metadata": {},
   "outputs": [],
   "source": [
    "Z41= np.max(recall)\n",
    "Z42= np.min(recall)\n",
    "Z43= np.std(recall)\n",
    "Z44= np.mean(recall)"
   ]
  },
  {
   "cell_type": "code",
   "execution_count": 161,
   "id": "f22d7d77",
   "metadata": {},
   "outputs": [],
   "source": [
    "F41= np.max(f1score)\n",
    "F42= np.min(f1score)\n",
    "F43= np.std(f1score)\n",
    "F44= np.mean(f1score)"
   ]
  },
  {
   "cell_type": "code",
   "execution_count": 162,
   "id": "94deaeef",
   "metadata": {},
   "outputs": [
    {
     "name": "stderr",
     "output_type": "stream",
     "text": [
      "F:\\conda\\lib\\site-packages\\xlsxwriter\\workbook.py:336: UserWarning: Calling close() on already closed file.\n",
      "  warn(\"Calling close() on already closed file.\")\n"
     ]
    }
   ],
   "source": [
    "\n",
    "path = r\"C:\\Users\\MAXFRAME\\Desktop\\Classification\\arryhthmiaclassif.xlsx\"\n",
    "\n",
    "dami={'KNN':[X11,X12,X13,X14,Y11,Y12,Y13,Y14,Z11,Z12,Z13,Z14,F11,F12,F13,F14],'ARBRE DE DECISION':[X41,X42,X43,X44,Y41,Y42,Y43,Y44,Z41,Z42,Z43,Z44,F41,F42,F43,F44],'BAYES':[X31,X32,X33,X34,Y31,Y32,Y33,Y34,Z31,Z32,Z33,Z34,F31,F32,F33,F34],'SVM':[X21,X22,X23,X24,Y21,Y22,Y23,Y24,Z21,Z22,Z23,Z24,F21,F22,F23,F24]}\n",
    "df1 = pd.DataFrame(dami,index=['Maximum (Accuracy)', 'Minimum (Accuracy)','Ecart type (Accuracy)', 'Moyenne (Accuracy)','Maximum (Precision)', 'Minimum (Precision)','Ecart type (Precision)', 'Moyenne (Precision)','Maximum (Recall)', 'Minimum (Recall)','Ecart type (Recall)', 'Moyenne (Recall)','Maximum (F1 score)', 'Minimum (F1 score)','Ecart type (F1 score)', 'Moyenne (F1 score)'])\n",
    "\n",
    "writer = pd.ExcelWriter(path, engine = 'xlsxwriter')\n",
    "df1.to_excel(writer)\n",
    "\n",
    "writer.save()\n",
    "writer.close()"
   ]
  },
  {
   "cell_type": "code",
   "execution_count": null,
   "id": "2b013fb4",
   "metadata": {},
   "outputs": [],
   "source": []
  }
 ],
 "metadata": {
  "kernelspec": {
   "display_name": "Python 3",
   "language": "python",
   "name": "python3"
  },
  "language_info": {
   "codemirror_mode": {
    "name": "ipython",
    "version": 3
   },
   "file_extension": ".py",
   "mimetype": "text/x-python",
   "name": "python",
   "nbconvert_exporter": "python",
   "pygments_lexer": "ipython3",
   "version": "3.8.8"
  }
 },
 "nbformat": 4,
 "nbformat_minor": 5
}
