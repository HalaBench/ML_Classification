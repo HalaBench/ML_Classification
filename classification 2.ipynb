{
 "cells": [
  {
   "cell_type": "code",
   "execution_count": 928,
   "id": "f479cd86",
   "metadata": {},
   "outputs": [
    {
     "data": {
      "text/plain": [
       "Age        0\n",
       "Sex        0\n",
       "Height     0\n",
       "Weight     0\n",
       "QRS_Dur    0\n",
       "          ..\n",
       "V6276      0\n",
       "V6277      0\n",
       "V6278      0\n",
       "V6279      0\n",
       "Class      0\n",
       "Length: 280, dtype: int64"
      ]
     },
     "execution_count": 928,
     "metadata": {},
     "output_type": "execute_result"
    }
   ],
   "source": [
    "import pandas as pd\n",
    "import numpy as np\n",
    "\n",
    "from pandas import read_csv\n",
    "from sklearn.preprocessing import StandardScaler\n",
    "\n",
    "import matplotlib.pyplot as plt\n",
    "from sklearn.decomposition import PCA\n",
    "from sklearn.metrics import silhouette_score\n",
    "from sklearn.metrics import rand_score\n",
    "from sklearn.neighbors import KNeighborsClassifier\n",
    "\n",
    "import warnings\n",
    "warnings.filterwarnings(\"ignore\")\n",
    "from sklearn.naive_bayes import GaussianNB\n",
    "from sklearn.tree import DecisionTreeClassifier\n",
    "\n",
    "from sklearn.model_selection import cross_val_score\n",
    "from sklearn.svm import SVC\n",
    "\n",
    "from sklearn.metrics import make_scorer, accuracy_score, precision_score, recall_score, f1_score\n",
    "from pandas import read_csv\n",
    "data= read_csv(\"arrhythmia.data\",names=(\"Age\",\"Sex\",\"Height\",\"Weight\",\"QRS_Dur\",\n",
    "\"P-R_Int\",\"Q-T_Int\",\"T_Int\",\"P_Int\",\"QRS\",\"T\",\"P\",\"QRST\",\"J\",\"Heart_Rate\",\n",
    "\"Q_Wave\",\"R_Wave\",\"S_Wave\",\"R'_Wave\",\"S'_Wave\",\"Int_Def\",\"Rag_R_Nom\",\n",
    "\"Diph_R_Nom\",\"Rag_P_Nom\",\"Diph_P_Nom\",\"Rag_T_Nom\",\"Diph_T_Nom\", \n",
    "\"DII00\", \"DII01\",\"DII02\", \"DII03\", \"DII04\",\"DII05\",\"DII06\",\"DII07\",\"DII08\",\"DII09\",\"DII10\",\"DII11\",\n",
    "\"DIII00\",\"DIII01\",\"DIII02\", \"DIII03\", \"DIII04\",\"DIII05\",\"DIII06\",\"DIII07\",\"DIII08\",\"DIII09\",\"DIII10\",\"DIII11\",\n",
    "\"AVR00\",\"AVR01\",\"AVR02\",\"AVR03\",\"AVR04\",\"AVR05\",\"AVR06\",\"AVR07\",\"AVR08\",\"AVR09\",\"AVR10\",\"AVR11\",\n",
    "\"AVL00\",\"AVL01\",\"AVL02\",\"AVL03\",\"AVL04\",\"AVL05\",\"AVL06\",\"AVL07\",\"AVL08\",\"AVL09\",\"AVL10\",\"AVL11\",\n",
    "\"AVF00\",\"AVF01\",\"AVF02\",\"AVF03\",\"AVF04\",\"AVF05\",\"AVF06\",\"AVF07\",\"AVF08\",\"AVF09\",\"AVF10\",\"AVF11\",\n",
    "\"V100\",\"V101\",\"V102\",\"V103\",\"V104\",\"V105\",\"V106\",\"V107\",\"V108\",\"V109\",\"V110\",\"V111\",\n",
    "\"V200\",\"V201\",\"V202\",\"V203\",\"V204\",\"V205\",\"V206\",\"V207\",\"V208\",\"V209\",\"V210\",\"V211\",\n",
    "\"V300\",\"V301\",\"V302\",\"V303\",\"V304\",\"V305\",\"V306\",\"V307\",\"V308\",\"V309\",\"V310\",\"V311\",\n",
    "\"V400\",\"V401\",\"V402\",\"V403\",\"V404\",\"V405\",\"V406\",\"V407\",\"V408\",\"V409\",\"V410\",\"V411\",\n",
    "\"V500\",\"V501\",\"V502\",\"V503\",\"V504\",\"V505\",\"V506\",\"V507\",\"V508\",\"V509\",\"V510\",\"V511\",\n",
    "\"V600\",\"V601\",\"V602\",\"V603\",\"V604\",\"V605\",\"V606\",\"V607\",\"V608\",\"V609\",\"V610\",\"V611\",\n",
    "\"JJ_Wave\",\"Amp_Q_Wave\",\"Amp_R_Wave\",\"Amp_S_Wave\",\"R_Prime_Wave\",\"S_Prime_Wave\",\"P_Wave\",\"T_Wave\",\n",
    "\"QRSA\",\"QRSTA\",\"DII170\",\"DII171\",\"DII172\",\"DII173\",\"DII174\",\"DII175\",\"DII176\",\"DII177\",\"DII178\",\"DII179\",\n",
    "\"DIII180\",\"DIII181\",\"DIII182\",\"DIII183\",\"DIII184\",\"DIII185\",\"DIII186\",\"DIII187\",\"DIII188\",\"DIII189\",\n",
    "\"AVR190\",\"AVR191\",\"AVR192\",\"AVR193\",\"AVR194\",\"AVR195\",\"AVR196\",\"AVR197\",\"AVR198\",\"AVR199\",\n",
    "\"AVL200\",\"AVL201\",\"AVL202\",\"AVL203\",\"AVL204\",\"AVL205\",\"AVL206\",\"AVL207\",\"AVL208\",\"AVL209\",\n",
    "\"AVF210\",\"AVF211\",\"AVF212\",\"AVF213\",\"AVF214\",\"AVF215\",\"AVF216\",\"AVF217\",\"AVF218\",\"AVF219\",\n",
    "\"V1220\",\"V1221\",\"V1222\",\"V1223\",\"V1224\",\"V1225\",\"V1226\",\"V1227\",\"V1228\",\"V1229\",\n",
    "\"V2230\",\"V2231\",\"V2232\",\"V2233\",\"V2234\",\"V2235\",\"V2236\",\"V2237\",\"V2238\",\"V2239\",\n",
    "\"V3240\",\"V3241\",\"V3242\",\"V3243\",\"V3244\",\"V3245\",\"V3246\",\"V3247\",\"V3248\",\"V3249\",\n",
    "\"V4250\",\"V4251\",\"V4252\",\"V4253\",\"V4254\",\"V4255\",\"V4256\",\"V4257\",\"V4258\",\"V4259\",\n",
    "\"V5260\",\"V5261\",\"V5262\",\"V5263\",\"V5264\",\"V5265\",\"V5266\",\"V5267\",\"V5268\",\"V5269\",\n",
    "\"V6270\",\"V6271\",\"V6272\",\"V6273\",\"V6274\",\"V6275\",\"V6276\",\"V6277\",\"V6278\",\"V6279\",\"Class\")) \n",
    "\n",
    "\n",
    "data.isna().sum()\n",
    "\n",
    "\n"
   ]
  },
  {
   "cell_type": "code",
   "execution_count": 929,
   "id": "c0949f0f",
   "metadata": {},
   "outputs": [
    {
     "data": {
      "text/html": [
       "<div>\n",
       "<style scoped>\n",
       "    .dataframe tbody tr th:only-of-type {\n",
       "        vertical-align: middle;\n",
       "    }\n",
       "\n",
       "    .dataframe tbody tr th {\n",
       "        vertical-align: top;\n",
       "    }\n",
       "\n",
       "    .dataframe thead th {\n",
       "        text-align: right;\n",
       "    }\n",
       "</style>\n",
       "<table border=\"1\" class=\"dataframe\">\n",
       "  <thead>\n",
       "    <tr style=\"text-align: right;\">\n",
       "      <th></th>\n",
       "      <th>Age</th>\n",
       "      <th>Sex</th>\n",
       "      <th>Height</th>\n",
       "      <th>Weight</th>\n",
       "      <th>QRS_Dur</th>\n",
       "      <th>P-R_Int</th>\n",
       "      <th>Q-T_Int</th>\n",
       "      <th>T_Int</th>\n",
       "      <th>P_Int</th>\n",
       "      <th>QRS</th>\n",
       "      <th>...</th>\n",
       "      <th>V6271</th>\n",
       "      <th>V6272</th>\n",
       "      <th>V6273</th>\n",
       "      <th>V6274</th>\n",
       "      <th>V6275</th>\n",
       "      <th>V6276</th>\n",
       "      <th>V6277</th>\n",
       "      <th>V6278</th>\n",
       "      <th>V6279</th>\n",
       "      <th>Class</th>\n",
       "    </tr>\n",
       "  </thead>\n",
       "  <tbody>\n",
       "    <tr>\n",
       "      <th>0</th>\n",
       "      <td>75</td>\n",
       "      <td>0</td>\n",
       "      <td>190</td>\n",
       "      <td>80</td>\n",
       "      <td>91</td>\n",
       "      <td>193</td>\n",
       "      <td>371</td>\n",
       "      <td>174</td>\n",
       "      <td>121</td>\n",
       "      <td>-16</td>\n",
       "      <td>...</td>\n",
       "      <td>0.0</td>\n",
       "      <td>9.0</td>\n",
       "      <td>-0.9</td>\n",
       "      <td>0.0</td>\n",
       "      <td>0.0</td>\n",
       "      <td>0.9</td>\n",
       "      <td>2.9</td>\n",
       "      <td>23.3</td>\n",
       "      <td>49.4</td>\n",
       "      <td>8</td>\n",
       "    </tr>\n",
       "    <tr>\n",
       "      <th>1</th>\n",
       "      <td>56</td>\n",
       "      <td>1</td>\n",
       "      <td>165</td>\n",
       "      <td>64</td>\n",
       "      <td>81</td>\n",
       "      <td>174</td>\n",
       "      <td>401</td>\n",
       "      <td>149</td>\n",
       "      <td>39</td>\n",
       "      <td>25</td>\n",
       "      <td>...</td>\n",
       "      <td>0.0</td>\n",
       "      <td>8.5</td>\n",
       "      <td>0.0</td>\n",
       "      <td>0.0</td>\n",
       "      <td>0.0</td>\n",
       "      <td>0.2</td>\n",
       "      <td>2.1</td>\n",
       "      <td>20.4</td>\n",
       "      <td>38.8</td>\n",
       "      <td>6</td>\n",
       "    </tr>\n",
       "    <tr>\n",
       "      <th>2</th>\n",
       "      <td>54</td>\n",
       "      <td>0</td>\n",
       "      <td>172</td>\n",
       "      <td>95</td>\n",
       "      <td>138</td>\n",
       "      <td>163</td>\n",
       "      <td>386</td>\n",
       "      <td>185</td>\n",
       "      <td>102</td>\n",
       "      <td>96</td>\n",
       "      <td>...</td>\n",
       "      <td>0.0</td>\n",
       "      <td>9.5</td>\n",
       "      <td>-2.4</td>\n",
       "      <td>0.0</td>\n",
       "      <td>0.0</td>\n",
       "      <td>0.3</td>\n",
       "      <td>3.4</td>\n",
       "      <td>12.3</td>\n",
       "      <td>49.0</td>\n",
       "      <td>10</td>\n",
       "    </tr>\n",
       "    <tr>\n",
       "      <th>3</th>\n",
       "      <td>55</td>\n",
       "      <td>0</td>\n",
       "      <td>175</td>\n",
       "      <td>94</td>\n",
       "      <td>100</td>\n",
       "      <td>202</td>\n",
       "      <td>380</td>\n",
       "      <td>179</td>\n",
       "      <td>143</td>\n",
       "      <td>28</td>\n",
       "      <td>...</td>\n",
       "      <td>0.0</td>\n",
       "      <td>12.2</td>\n",
       "      <td>-2.2</td>\n",
       "      <td>0.0</td>\n",
       "      <td>0.0</td>\n",
       "      <td>0.4</td>\n",
       "      <td>2.6</td>\n",
       "      <td>34.6</td>\n",
       "      <td>61.6</td>\n",
       "      <td>1</td>\n",
       "    </tr>\n",
       "    <tr>\n",
       "      <th>4</th>\n",
       "      <td>75</td>\n",
       "      <td>0</td>\n",
       "      <td>190</td>\n",
       "      <td>80</td>\n",
       "      <td>88</td>\n",
       "      <td>181</td>\n",
       "      <td>360</td>\n",
       "      <td>177</td>\n",
       "      <td>103</td>\n",
       "      <td>-16</td>\n",
       "      <td>...</td>\n",
       "      <td>0.0</td>\n",
       "      <td>13.1</td>\n",
       "      <td>-3.6</td>\n",
       "      <td>0.0</td>\n",
       "      <td>0.0</td>\n",
       "      <td>-0.1</td>\n",
       "      <td>3.9</td>\n",
       "      <td>25.4</td>\n",
       "      <td>62.8</td>\n",
       "      <td>7</td>\n",
       "    </tr>\n",
       "    <tr>\n",
       "      <th>...</th>\n",
       "      <td>...</td>\n",
       "      <td>...</td>\n",
       "      <td>...</td>\n",
       "      <td>...</td>\n",
       "      <td>...</td>\n",
       "      <td>...</td>\n",
       "      <td>...</td>\n",
       "      <td>...</td>\n",
       "      <td>...</td>\n",
       "      <td>...</td>\n",
       "      <td>...</td>\n",
       "      <td>...</td>\n",
       "      <td>...</td>\n",
       "      <td>...</td>\n",
       "      <td>...</td>\n",
       "      <td>...</td>\n",
       "      <td>...</td>\n",
       "      <td>...</td>\n",
       "      <td>...</td>\n",
       "      <td>...</td>\n",
       "      <td>...</td>\n",
       "    </tr>\n",
       "    <tr>\n",
       "      <th>447</th>\n",
       "      <td>53</td>\n",
       "      <td>1</td>\n",
       "      <td>160</td>\n",
       "      <td>70</td>\n",
       "      <td>80</td>\n",
       "      <td>199</td>\n",
       "      <td>382</td>\n",
       "      <td>154</td>\n",
       "      <td>117</td>\n",
       "      <td>-37</td>\n",
       "      <td>...</td>\n",
       "      <td>0.0</td>\n",
       "      <td>4.3</td>\n",
       "      <td>-5.0</td>\n",
       "      <td>0.0</td>\n",
       "      <td>0.0</td>\n",
       "      <td>0.7</td>\n",
       "      <td>0.6</td>\n",
       "      <td>-4.4</td>\n",
       "      <td>-0.5</td>\n",
       "      <td>1</td>\n",
       "    </tr>\n",
       "    <tr>\n",
       "      <th>448</th>\n",
       "      <td>37</td>\n",
       "      <td>0</td>\n",
       "      <td>190</td>\n",
       "      <td>85</td>\n",
       "      <td>100</td>\n",
       "      <td>137</td>\n",
       "      <td>361</td>\n",
       "      <td>201</td>\n",
       "      <td>73</td>\n",
       "      <td>86</td>\n",
       "      <td>...</td>\n",
       "      <td>0.0</td>\n",
       "      <td>15.6</td>\n",
       "      <td>-1.6</td>\n",
       "      <td>0.0</td>\n",
       "      <td>0.0</td>\n",
       "      <td>0.4</td>\n",
       "      <td>2.4</td>\n",
       "      <td>38.0</td>\n",
       "      <td>62.4</td>\n",
       "      <td>10</td>\n",
       "    </tr>\n",
       "    <tr>\n",
       "      <th>449</th>\n",
       "      <td>36</td>\n",
       "      <td>0</td>\n",
       "      <td>166</td>\n",
       "      <td>68</td>\n",
       "      <td>108</td>\n",
       "      <td>176</td>\n",
       "      <td>365</td>\n",
       "      <td>194</td>\n",
       "      <td>116</td>\n",
       "      <td>-85</td>\n",
       "      <td>...</td>\n",
       "      <td>0.0</td>\n",
       "      <td>16.3</td>\n",
       "      <td>-28.6</td>\n",
       "      <td>0.0</td>\n",
       "      <td>0.0</td>\n",
       "      <td>1.5</td>\n",
       "      <td>1.0</td>\n",
       "      <td>-44.2</td>\n",
       "      <td>-33.2</td>\n",
       "      <td>2</td>\n",
       "    </tr>\n",
       "    <tr>\n",
       "      <th>450</th>\n",
       "      <td>32</td>\n",
       "      <td>1</td>\n",
       "      <td>155</td>\n",
       "      <td>55</td>\n",
       "      <td>93</td>\n",
       "      <td>106</td>\n",
       "      <td>386</td>\n",
       "      <td>218</td>\n",
       "      <td>63</td>\n",
       "      <td>54</td>\n",
       "      <td>...</td>\n",
       "      <td>-0.4</td>\n",
       "      <td>12.0</td>\n",
       "      <td>-0.7</td>\n",
       "      <td>0.0</td>\n",
       "      <td>0.0</td>\n",
       "      <td>0.5</td>\n",
       "      <td>2.4</td>\n",
       "      <td>25.0</td>\n",
       "      <td>46.6</td>\n",
       "      <td>1</td>\n",
       "    </tr>\n",
       "    <tr>\n",
       "      <th>451</th>\n",
       "      <td>78</td>\n",
       "      <td>1</td>\n",
       "      <td>160</td>\n",
       "      <td>70</td>\n",
       "      <td>79</td>\n",
       "      <td>127</td>\n",
       "      <td>364</td>\n",
       "      <td>138</td>\n",
       "      <td>78</td>\n",
       "      <td>28</td>\n",
       "      <td>...</td>\n",
       "      <td>0.0</td>\n",
       "      <td>10.4</td>\n",
       "      <td>-1.8</td>\n",
       "      <td>0.0</td>\n",
       "      <td>0.0</td>\n",
       "      <td>0.5</td>\n",
       "      <td>1.6</td>\n",
       "      <td>21.3</td>\n",
       "      <td>32.8</td>\n",
       "      <td>1</td>\n",
       "    </tr>\n",
       "  </tbody>\n",
       "</table>\n",
       "<p>452 rows × 280 columns</p>\n",
       "</div>"
      ],
      "text/plain": [
       "     Age  Sex  Height  Weight  QRS_Dur  P-R_Int  Q-T_Int  T_Int  P_Int  QRS  \\\n",
       "0     75    0     190      80       91      193      371    174    121  -16   \n",
       "1     56    1     165      64       81      174      401    149     39   25   \n",
       "2     54    0     172      95      138      163      386    185    102   96   \n",
       "3     55    0     175      94      100      202      380    179    143   28   \n",
       "4     75    0     190      80       88      181      360    177    103  -16   \n",
       "..   ...  ...     ...     ...      ...      ...      ...    ...    ...  ...   \n",
       "447   53    1     160      70       80      199      382    154    117  -37   \n",
       "448   37    0     190      85      100      137      361    201     73   86   \n",
       "449   36    0     166      68      108      176      365    194    116  -85   \n",
       "450   32    1     155      55       93      106      386    218     63   54   \n",
       "451   78    1     160      70       79      127      364    138     78   28   \n",
       "\n",
       "     ... V6271 V6272 V6273 V6274 V6275  V6276  V6277  V6278  V6279  Class  \n",
       "0    ...   0.0   9.0  -0.9   0.0   0.0    0.9    2.9   23.3   49.4      8  \n",
       "1    ...   0.0   8.5   0.0   0.0   0.0    0.2    2.1   20.4   38.8      6  \n",
       "2    ...   0.0   9.5  -2.4   0.0   0.0    0.3    3.4   12.3   49.0     10  \n",
       "3    ...   0.0  12.2  -2.2   0.0   0.0    0.4    2.6   34.6   61.6      1  \n",
       "4    ...   0.0  13.1  -3.6   0.0   0.0   -0.1    3.9   25.4   62.8      7  \n",
       "..   ...   ...   ...   ...   ...   ...    ...    ...    ...    ...    ...  \n",
       "447  ...   0.0   4.3  -5.0   0.0   0.0    0.7    0.6   -4.4   -0.5      1  \n",
       "448  ...   0.0  15.6  -1.6   0.0   0.0    0.4    2.4   38.0   62.4     10  \n",
       "449  ...   0.0  16.3 -28.6   0.0   0.0    1.5    1.0  -44.2  -33.2      2  \n",
       "450  ...  -0.4  12.0  -0.7   0.0   0.0    0.5    2.4   25.0   46.6      1  \n",
       "451  ...   0.0  10.4  -1.8   0.0   0.0    0.5    1.6   21.3   32.8      1  \n",
       "\n",
       "[452 rows x 280 columns]"
      ]
     },
     "execution_count": 929,
     "metadata": {},
     "output_type": "execute_result"
    }
   ],
   "source": [
    "data = data.replace('?',np.nan)\n",
    "data"
   ]
  },
  {
   "cell_type": "code",
   "execution_count": 930,
   "id": "807b5db4",
   "metadata": {},
   "outputs": [
    {
     "data": {
      "text/html": [
       "<div>\n",
       "<style scoped>\n",
       "    .dataframe tbody tr th:only-of-type {\n",
       "        vertical-align: middle;\n",
       "    }\n",
       "\n",
       "    .dataframe tbody tr th {\n",
       "        vertical-align: top;\n",
       "    }\n",
       "\n",
       "    .dataframe thead th {\n",
       "        text-align: right;\n",
       "    }\n",
       "</style>\n",
       "<table border=\"1\" class=\"dataframe\">\n",
       "  <thead>\n",
       "    <tr style=\"text-align: right;\">\n",
       "      <th></th>\n",
       "      <th>Age</th>\n",
       "      <th>Sex</th>\n",
       "      <th>Height</th>\n",
       "      <th>Weight</th>\n",
       "      <th>QRS_Dur</th>\n",
       "      <th>P-R_Int</th>\n",
       "      <th>Q-T_Int</th>\n",
       "      <th>T_Int</th>\n",
       "      <th>P_Int</th>\n",
       "      <th>QRS</th>\n",
       "      <th>...</th>\n",
       "      <th>V6271</th>\n",
       "      <th>V6272</th>\n",
       "      <th>V6273</th>\n",
       "      <th>V6274</th>\n",
       "      <th>V6275</th>\n",
       "      <th>V6276</th>\n",
       "      <th>V6277</th>\n",
       "      <th>V6278</th>\n",
       "      <th>V6279</th>\n",
       "      <th>Class</th>\n",
       "    </tr>\n",
       "  </thead>\n",
       "  <tbody>\n",
       "    <tr>\n",
       "      <th>0</th>\n",
       "      <td>62.0</td>\n",
       "      <td>0.0</td>\n",
       "      <td>176.0</td>\n",
       "      <td>73.0</td>\n",
       "      <td>146.0</td>\n",
       "      <td>138.0</td>\n",
       "      <td>438.0</td>\n",
       "      <td>283.0</td>\n",
       "      <td>87.0</td>\n",
       "      <td>16.0</td>\n",
       "      <td>...</td>\n",
       "      <td>0.0</td>\n",
       "      <td>10.3</td>\n",
       "      <td>0.0</td>\n",
       "      <td>0.0</td>\n",
       "      <td>0.0</td>\n",
       "      <td>0.1</td>\n",
       "      <td>-1.6</td>\n",
       "      <td>67.9</td>\n",
       "      <td>45.2</td>\n",
       "      <td>9.0</td>\n",
       "    </tr>\n",
       "    <tr>\n",
       "      <th>1</th>\n",
       "      <td>47.0</td>\n",
       "      <td>0.0</td>\n",
       "      <td>169.0</td>\n",
       "      <td>80.0</td>\n",
       "      <td>89.0</td>\n",
       "      <td>142.0</td>\n",
       "      <td>369.0</td>\n",
       "      <td>155.0</td>\n",
       "      <td>91.0</td>\n",
       "      <td>5.0</td>\n",
       "      <td>...</td>\n",
       "      <td>-0.5</td>\n",
       "      <td>9.4</td>\n",
       "      <td>0.0</td>\n",
       "      <td>0.0</td>\n",
       "      <td>0.0</td>\n",
       "      <td>0.7</td>\n",
       "      <td>1.4</td>\n",
       "      <td>22.0</td>\n",
       "      <td>32.9</td>\n",
       "      <td>1.0</td>\n",
       "    </tr>\n",
       "    <tr>\n",
       "      <th>2</th>\n",
       "      <td>44.0</td>\n",
       "      <td>1.0</td>\n",
       "      <td>155.0</td>\n",
       "      <td>65.0</td>\n",
       "      <td>80.0</td>\n",
       "      <td>117.0</td>\n",
       "      <td>363.0</td>\n",
       "      <td>142.0</td>\n",
       "      <td>72.0</td>\n",
       "      <td>56.0</td>\n",
       "      <td>...</td>\n",
       "      <td>0.0</td>\n",
       "      <td>6.2</td>\n",
       "      <td>0.0</td>\n",
       "      <td>0.0</td>\n",
       "      <td>0.0</td>\n",
       "      <td>0.5</td>\n",
       "      <td>1.1</td>\n",
       "      <td>16.1</td>\n",
       "      <td>23.8</td>\n",
       "      <td>1.0</td>\n",
       "    </tr>\n",
       "    <tr>\n",
       "      <th>3</th>\n",
       "      <td>46.0</td>\n",
       "      <td>0.0</td>\n",
       "      <td>168.0</td>\n",
       "      <td>60.0</td>\n",
       "      <td>100.0</td>\n",
       "      <td>185.0</td>\n",
       "      <td>413.0</td>\n",
       "      <td>147.0</td>\n",
       "      <td>93.0</td>\n",
       "      <td>-12.0</td>\n",
       "      <td>...</td>\n",
       "      <td>-0.5</td>\n",
       "      <td>11.1</td>\n",
       "      <td>-1.8</td>\n",
       "      <td>0.0</td>\n",
       "      <td>0.0</td>\n",
       "      <td>0.5</td>\n",
       "      <td>1.7</td>\n",
       "      <td>22.5</td>\n",
       "      <td>32.7</td>\n",
       "      <td>16.0</td>\n",
       "    </tr>\n",
       "    <tr>\n",
       "      <th>4</th>\n",
       "      <td>42.0</td>\n",
       "      <td>1.0</td>\n",
       "      <td>157.0</td>\n",
       "      <td>65.0</td>\n",
       "      <td>86.0</td>\n",
       "      <td>109.0</td>\n",
       "      <td>374.0</td>\n",
       "      <td>167.0</td>\n",
       "      <td>61.0</td>\n",
       "      <td>66.0</td>\n",
       "      <td>...</td>\n",
       "      <td>-0.4</td>\n",
       "      <td>17.3</td>\n",
       "      <td>0.0</td>\n",
       "      <td>0.0</td>\n",
       "      <td>0.0</td>\n",
       "      <td>0.5</td>\n",
       "      <td>2.5</td>\n",
       "      <td>41.2</td>\n",
       "      <td>64.2</td>\n",
       "      <td>1.0</td>\n",
       "    </tr>\n",
       "    <tr>\n",
       "      <th>...</th>\n",
       "      <td>...</td>\n",
       "      <td>...</td>\n",
       "      <td>...</td>\n",
       "      <td>...</td>\n",
       "      <td>...</td>\n",
       "      <td>...</td>\n",
       "      <td>...</td>\n",
       "      <td>...</td>\n",
       "      <td>...</td>\n",
       "      <td>...</td>\n",
       "      <td>...</td>\n",
       "      <td>...</td>\n",
       "      <td>...</td>\n",
       "      <td>...</td>\n",
       "      <td>...</td>\n",
       "      <td>...</td>\n",
       "      <td>...</td>\n",
       "      <td>...</td>\n",
       "      <td>...</td>\n",
       "      <td>...</td>\n",
       "      <td>...</td>\n",
       "    </tr>\n",
       "    <tr>\n",
       "      <th>447</th>\n",
       "      <td>68.0</td>\n",
       "      <td>0.0</td>\n",
       "      <td>164.0</td>\n",
       "      <td>53.0</td>\n",
       "      <td>79.0</td>\n",
       "      <td>170.0</td>\n",
       "      <td>364.0</td>\n",
       "      <td>172.0</td>\n",
       "      <td>106.0</td>\n",
       "      <td>47.0</td>\n",
       "      <td>...</td>\n",
       "      <td>0.0</td>\n",
       "      <td>8.2</td>\n",
       "      <td>-0.8</td>\n",
       "      <td>0.0</td>\n",
       "      <td>0.0</td>\n",
       "      <td>0.7</td>\n",
       "      <td>2.7</td>\n",
       "      <td>18.8</td>\n",
       "      <td>41.4</td>\n",
       "      <td>1.0</td>\n",
       "    </tr>\n",
       "    <tr>\n",
       "      <th>448</th>\n",
       "      <td>31.0</td>\n",
       "      <td>1.0</td>\n",
       "      <td>161.0</td>\n",
       "      <td>73.0</td>\n",
       "      <td>93.0</td>\n",
       "      <td>173.0</td>\n",
       "      <td>361.0</td>\n",
       "      <td>164.0</td>\n",
       "      <td>108.0</td>\n",
       "      <td>63.0</td>\n",
       "      <td>...</td>\n",
       "      <td>-0.7</td>\n",
       "      <td>8.5</td>\n",
       "      <td>0.0</td>\n",
       "      <td>0.0</td>\n",
       "      <td>0.0</td>\n",
       "      <td>0.7</td>\n",
       "      <td>1.5</td>\n",
       "      <td>31.5</td>\n",
       "      <td>43.5</td>\n",
       "      <td>1.0</td>\n",
       "    </tr>\n",
       "    <tr>\n",
       "      <th>449</th>\n",
       "      <td>45.0</td>\n",
       "      <td>1.0</td>\n",
       "      <td>158.0</td>\n",
       "      <td>65.0</td>\n",
       "      <td>82.0</td>\n",
       "      <td>122.0</td>\n",
       "      <td>336.0</td>\n",
       "      <td>174.0</td>\n",
       "      <td>63.0</td>\n",
       "      <td>38.0</td>\n",
       "      <td>...</td>\n",
       "      <td>-0.5</td>\n",
       "      <td>7.8</td>\n",
       "      <td>-0.7</td>\n",
       "      <td>0.0</td>\n",
       "      <td>0.0</td>\n",
       "      <td>-0.1</td>\n",
       "      <td>2.5</td>\n",
       "      <td>17.6</td>\n",
       "      <td>40.6</td>\n",
       "      <td>1.0</td>\n",
       "    </tr>\n",
       "    <tr>\n",
       "      <th>450</th>\n",
       "      <td>45.0</td>\n",
       "      <td>0.0</td>\n",
       "      <td>173.0</td>\n",
       "      <td>70.0</td>\n",
       "      <td>103.0</td>\n",
       "      <td>155.0</td>\n",
       "      <td>350.0</td>\n",
       "      <td>249.0</td>\n",
       "      <td>75.0</td>\n",
       "      <td>1.0</td>\n",
       "      <td>...</td>\n",
       "      <td>0.0</td>\n",
       "      <td>10.6</td>\n",
       "      <td>-2.6</td>\n",
       "      <td>0.0</td>\n",
       "      <td>0.0</td>\n",
       "      <td>0.9</td>\n",
       "      <td>-1.4</td>\n",
       "      <td>26.1</td>\n",
       "      <td>8.5</td>\n",
       "      <td>2.0</td>\n",
       "    </tr>\n",
       "    <tr>\n",
       "      <th>451</th>\n",
       "      <td>35.0</td>\n",
       "      <td>1.0</td>\n",
       "      <td>164.0</td>\n",
       "      <td>94.0</td>\n",
       "      <td>85.0</td>\n",
       "      <td>200.0</td>\n",
       "      <td>385.0</td>\n",
       "      <td>174.0</td>\n",
       "      <td>74.0</td>\n",
       "      <td>48.0</td>\n",
       "      <td>...</td>\n",
       "      <td>0.0</td>\n",
       "      <td>11.2</td>\n",
       "      <td>-1.3</td>\n",
       "      <td>0.0</td>\n",
       "      <td>0.0</td>\n",
       "      <td>1.0</td>\n",
       "      <td>4.3</td>\n",
       "      <td>26.5</td>\n",
       "      <td>67.7</td>\n",
       "      <td>10.0</td>\n",
       "    </tr>\n",
       "  </tbody>\n",
       "</table>\n",
       "<p>452 rows × 280 columns</p>\n",
       "</div>"
      ],
      "text/plain": [
       "      Age  Sex  Height  Weight  QRS_Dur  P-R_Int  Q-T_Int  T_Int  P_Int   QRS  \\\n",
       "0    62.0  0.0   176.0    73.0    146.0    138.0    438.0  283.0   87.0  16.0   \n",
       "1    47.0  0.0   169.0    80.0     89.0    142.0    369.0  155.0   91.0   5.0   \n",
       "2    44.0  1.0   155.0    65.0     80.0    117.0    363.0  142.0   72.0  56.0   \n",
       "3    46.0  0.0   168.0    60.0    100.0    185.0    413.0  147.0   93.0 -12.0   \n",
       "4    42.0  1.0   157.0    65.0     86.0    109.0    374.0  167.0   61.0  66.0   \n",
       "..    ...  ...     ...     ...      ...      ...      ...    ...    ...   ...   \n",
       "447  68.0  0.0   164.0    53.0     79.0    170.0    364.0  172.0  106.0  47.0   \n",
       "448  31.0  1.0   161.0    73.0     93.0    173.0    361.0  164.0  108.0  63.0   \n",
       "449  45.0  1.0   158.0    65.0     82.0    122.0    336.0  174.0   63.0  38.0   \n",
       "450  45.0  0.0   173.0    70.0    103.0    155.0    350.0  249.0   75.0   1.0   \n",
       "451  35.0  1.0   164.0    94.0     85.0    200.0    385.0  174.0   74.0  48.0   \n",
       "\n",
       "     ...  V6271  V6272  V6273  V6274  V6275  V6276  V6277  V6278  V6279  Class  \n",
       "0    ...    0.0   10.3    0.0    0.0    0.0    0.1   -1.6   67.9   45.2    9.0  \n",
       "1    ...   -0.5    9.4    0.0    0.0    0.0    0.7    1.4   22.0   32.9    1.0  \n",
       "2    ...    0.0    6.2    0.0    0.0    0.0    0.5    1.1   16.1   23.8    1.0  \n",
       "3    ...   -0.5   11.1   -1.8    0.0    0.0    0.5    1.7   22.5   32.7   16.0  \n",
       "4    ...   -0.4   17.3    0.0    0.0    0.0    0.5    2.5   41.2   64.2    1.0  \n",
       "..   ...    ...    ...    ...    ...    ...    ...    ...    ...    ...    ...  \n",
       "447  ...    0.0    8.2   -0.8    0.0    0.0    0.7    2.7   18.8   41.4    1.0  \n",
       "448  ...   -0.7    8.5    0.0    0.0    0.0    0.7    1.5   31.5   43.5    1.0  \n",
       "449  ...   -0.5    7.8   -0.7    0.0    0.0   -0.1    2.5   17.6   40.6    1.0  \n",
       "450  ...    0.0   10.6   -2.6    0.0    0.0    0.9   -1.4   26.1    8.5    2.0  \n",
       "451  ...    0.0   11.2   -1.3    0.0    0.0    1.0    4.3   26.5   67.7   10.0  \n",
       "\n",
       "[452 rows x 280 columns]"
      ]
     },
     "execution_count": 930,
     "metadata": {},
     "output_type": "execute_result"
    }
   ],
   "source": [
    "df=data.copy()\n",
    "\n",
    "for i in df.columns:\n",
    "    \n",
    "    df[i]=pd.to_numeric(df[i],errors='coerce').astype('float64')\n",
    "for i in df.columns:\n",
    "    df[i].fillna(df[i].mean(), inplace = True )\n",
    "df= df.sample(frac=1.0, random_state=1).reset_index(drop=True)   \n",
    "df"
   ]
  },
  {
   "cell_type": "code",
   "execution_count": null,
   "id": "636bed0d",
   "metadata": {},
   "outputs": [],
   "source": []
  },
  {
   "cell_type": "code",
   "execution_count": null,
   "id": "e5bacbe2",
   "metadata": {},
   "outputs": [],
   "source": []
  },
  {
   "cell_type": "code",
   "execution_count": 931,
   "id": "0457cdb3",
   "metadata": {},
   "outputs": [
    {
     "data": {
      "text/html": [
       "<div>\n",
       "<style scoped>\n",
       "    .dataframe tbody tr th:only-of-type {\n",
       "        vertical-align: middle;\n",
       "    }\n",
       "\n",
       "    .dataframe tbody tr th {\n",
       "        vertical-align: top;\n",
       "    }\n",
       "\n",
       "    .dataframe thead th {\n",
       "        text-align: right;\n",
       "    }\n",
       "</style>\n",
       "<table border=\"1\" class=\"dataframe\">\n",
       "  <thead>\n",
       "    <tr style=\"text-align: right;\">\n",
       "      <th></th>\n",
       "      <th>0</th>\n",
       "      <th>1</th>\n",
       "      <th>2</th>\n",
       "      <th>3</th>\n",
       "      <th>4</th>\n",
       "      <th>5</th>\n",
       "      <th>6</th>\n",
       "      <th>7</th>\n",
       "      <th>8</th>\n",
       "      <th>9</th>\n",
       "      <th>...</th>\n",
       "      <th>269</th>\n",
       "      <th>270</th>\n",
       "      <th>271</th>\n",
       "      <th>272</th>\n",
       "      <th>273</th>\n",
       "      <th>274</th>\n",
       "      <th>275</th>\n",
       "      <th>276</th>\n",
       "      <th>277</th>\n",
       "      <th>278</th>\n",
       "    </tr>\n",
       "  </thead>\n",
       "  <tbody>\n",
       "    <tr>\n",
       "      <th>0</th>\n",
       "      <td>0.944089</td>\n",
       "      <td>-1.107520</td>\n",
       "      <td>0.264265</td>\n",
       "      <td>0.291426</td>\n",
       "      <td>3.719176</td>\n",
       "      <td>-0.382935</td>\n",
       "      <td>2.122797</td>\n",
       "      <td>3.176155</td>\n",
       "      <td>-0.116459</td>\n",
       "      <td>-0.389523</td>\n",
       "      <td>...</td>\n",
       "      <td>-2.484010</td>\n",
       "      <td>0.508843</td>\n",
       "      <td>0.360906</td>\n",
       "      <td>0.728573</td>\n",
       "      <td>-0.079546</td>\n",
       "      <td>0.0</td>\n",
       "      <td>-1.194952</td>\n",
       "      <td>-1.981325</td>\n",
       "      <td>3.601007</td>\n",
       "      <td>0.851317</td>\n",
       "    </tr>\n",
       "    <tr>\n",
       "      <th>1</th>\n",
       "      <td>0.032147</td>\n",
       "      <td>-1.107520</td>\n",
       "      <td>0.075734</td>\n",
       "      <td>0.713814</td>\n",
       "      <td>0.005190</td>\n",
       "      <td>-0.293634</td>\n",
       "      <td>0.053737</td>\n",
       "      <td>-0.419994</td>\n",
       "      <td>0.038591</td>\n",
       "      <td>-0.631914</td>\n",
       "      <td>...</td>\n",
       "      <td>0.004037</td>\n",
       "      <td>-0.403120</td>\n",
       "      <td>0.101467</td>\n",
       "      <td>0.728573</td>\n",
       "      <td>-0.079546</td>\n",
       "      <td>0.0</td>\n",
       "      <td>0.533427</td>\n",
       "      <td>0.124716</td>\n",
       "      <td>0.198228</td>\n",
       "      <td>0.185497</td>\n",
       "    </tr>\n",
       "    <tr>\n",
       "      <th>2</th>\n",
       "      <td>-0.150242</td>\n",
       "      <td>0.902918</td>\n",
       "      <td>-0.301328</td>\n",
       "      <td>-0.191303</td>\n",
       "      <td>-0.581229</td>\n",
       "      <td>-0.851761</td>\n",
       "      <td>-0.126182</td>\n",
       "      <td>-0.785228</td>\n",
       "      <td>-0.697898</td>\n",
       "      <td>0.491900</td>\n",
       "      <td>...</td>\n",
       "      <td>0.169906</td>\n",
       "      <td>0.508843</td>\n",
       "      <td>-0.820984</td>\n",
       "      <td>0.728573</td>\n",
       "      <td>-0.079546</td>\n",
       "      <td>0.0</td>\n",
       "      <td>-0.042700</td>\n",
       "      <td>-0.085888</td>\n",
       "      <td>-0.239166</td>\n",
       "      <td>-0.307102</td>\n",
       "    </tr>\n",
       "    <tr>\n",
       "      <th>3</th>\n",
       "      <td>-0.028650</td>\n",
       "      <td>-1.107520</td>\n",
       "      <td>0.048801</td>\n",
       "      <td>-0.493009</td>\n",
       "      <td>0.721924</td>\n",
       "      <td>0.666345</td>\n",
       "      <td>1.373138</td>\n",
       "      <td>-0.644753</td>\n",
       "      <td>0.116116</td>\n",
       "      <td>-1.006519</td>\n",
       "      <td>...</td>\n",
       "      <td>-0.161833</td>\n",
       "      <td>-0.403120</td>\n",
       "      <td>0.591519</td>\n",
       "      <td>-0.171331</td>\n",
       "      <td>-0.079546</td>\n",
       "      <td>0.0</td>\n",
       "      <td>-0.042700</td>\n",
       "      <td>0.335320</td>\n",
       "      <td>0.235295</td>\n",
       "      <td>0.174671</td>\n",
       "    </tr>\n",
       "    <tr>\n",
       "      <th>4</th>\n",
       "      <td>-0.271834</td>\n",
       "      <td>0.902918</td>\n",
       "      <td>-0.247462</td>\n",
       "      <td>-0.191303</td>\n",
       "      <td>-0.190283</td>\n",
       "      <td>-1.030362</td>\n",
       "      <td>0.203669</td>\n",
       "      <td>-0.082855</td>\n",
       "      <td>-1.124287</td>\n",
       "      <td>0.712256</td>\n",
       "      <td>...</td>\n",
       "      <td>-1.820531</td>\n",
       "      <td>-0.220727</td>\n",
       "      <td>2.378768</td>\n",
       "      <td>0.728573</td>\n",
       "      <td>-0.079546</td>\n",
       "      <td>0.0</td>\n",
       "      <td>-0.042700</td>\n",
       "      <td>0.896931</td>\n",
       "      <td>1.621613</td>\n",
       "      <td>1.879820</td>\n",
       "    </tr>\n",
       "    <tr>\n",
       "      <th>...</th>\n",
       "      <td>...</td>\n",
       "      <td>...</td>\n",
       "      <td>...</td>\n",
       "      <td>...</td>\n",
       "      <td>...</td>\n",
       "      <td>...</td>\n",
       "      <td>...</td>\n",
       "      <td>...</td>\n",
       "      <td>...</td>\n",
       "      <td>...</td>\n",
       "      <td>...</td>\n",
       "      <td>...</td>\n",
       "      <td>...</td>\n",
       "      <td>...</td>\n",
       "      <td>...</td>\n",
       "      <td>...</td>\n",
       "      <td>...</td>\n",
       "      <td>...</td>\n",
       "      <td>...</td>\n",
       "      <td>...</td>\n",
       "      <td>...</td>\n",
       "    </tr>\n",
       "    <tr>\n",
       "      <th>447</th>\n",
       "      <td>1.308866</td>\n",
       "      <td>-1.107520</td>\n",
       "      <td>-0.058931</td>\n",
       "      <td>-0.915397</td>\n",
       "      <td>-0.646387</td>\n",
       "      <td>0.331468</td>\n",
       "      <td>-0.096195</td>\n",
       "      <td>0.057619</td>\n",
       "      <td>0.620030</td>\n",
       "      <td>0.293580</td>\n",
       "      <td>...</td>\n",
       "      <td>0.667516</td>\n",
       "      <td>0.508843</td>\n",
       "      <td>-0.244452</td>\n",
       "      <td>0.328615</td>\n",
       "      <td>-0.079546</td>\n",
       "      <td>0.0</td>\n",
       "      <td>0.533427</td>\n",
       "      <td>1.037334</td>\n",
       "      <td>-0.039003</td>\n",
       "      <td>0.645617</td>\n",
       "    </tr>\n",
       "    <tr>\n",
       "      <th>448</th>\n",
       "      <td>-0.940592</td>\n",
       "      <td>0.902918</td>\n",
       "      <td>-0.139730</td>\n",
       "      <td>0.291426</td>\n",
       "      <td>0.265820</td>\n",
       "      <td>0.398444</td>\n",
       "      <td>-0.186154</td>\n",
       "      <td>-0.167140</td>\n",
       "      <td>0.697555</td>\n",
       "      <td>0.646150</td>\n",
       "      <td>...</td>\n",
       "      <td>0.501646</td>\n",
       "      <td>-0.767905</td>\n",
       "      <td>-0.157972</td>\n",
       "      <td>0.728573</td>\n",
       "      <td>-0.079546</td>\n",
       "      <td>0.0</td>\n",
       "      <td>0.533427</td>\n",
       "      <td>0.194918</td>\n",
       "      <td>0.902507</td>\n",
       "      <td>0.759293</td>\n",
       "    </tr>\n",
       "    <tr>\n",
       "      <th>449</th>\n",
       "      <td>-0.089446</td>\n",
       "      <td>0.902918</td>\n",
       "      <td>-0.220529</td>\n",
       "      <td>-0.191303</td>\n",
       "      <td>-0.450914</td>\n",
       "      <td>-0.740136</td>\n",
       "      <td>-0.935814</td>\n",
       "      <td>0.113809</td>\n",
       "      <td>-1.046762</td>\n",
       "      <td>0.095260</td>\n",
       "      <td>...</td>\n",
       "      <td>0.833385</td>\n",
       "      <td>-0.403120</td>\n",
       "      <td>-0.359758</td>\n",
       "      <td>0.378610</td>\n",
       "      <td>-0.079546</td>\n",
       "      <td>0.0</td>\n",
       "      <td>-1.771079</td>\n",
       "      <td>0.896931</td>\n",
       "      <td>-0.127964</td>\n",
       "      <td>0.602311</td>\n",
       "    </tr>\n",
       "    <tr>\n",
       "      <th>450</th>\n",
       "      <td>-0.089446</td>\n",
       "      <td>-1.107520</td>\n",
       "      <td>0.183466</td>\n",
       "      <td>0.110403</td>\n",
       "      <td>0.917397</td>\n",
       "      <td>-0.003408</td>\n",
       "      <td>-0.516005</td>\n",
       "      <td>2.220928</td>\n",
       "      <td>-0.581611</td>\n",
       "      <td>-0.720056</td>\n",
       "      <td>...</td>\n",
       "      <td>-1.820531</td>\n",
       "      <td>0.508843</td>\n",
       "      <td>0.447386</td>\n",
       "      <td>-0.571289</td>\n",
       "      <td>-0.079546</td>\n",
       "      <td>0.0</td>\n",
       "      <td>1.109553</td>\n",
       "      <td>-1.840922</td>\n",
       "      <td>0.502180</td>\n",
       "      <td>-1.135317</td>\n",
       "    </tr>\n",
       "    <tr>\n",
       "      <th>451</th>\n",
       "      <td>-0.697407</td>\n",
       "      <td>0.902918</td>\n",
       "      <td>-0.058931</td>\n",
       "      <td>1.558590</td>\n",
       "      <td>-0.255441</td>\n",
       "      <td>1.001221</td>\n",
       "      <td>0.533519</td>\n",
       "      <td>0.113809</td>\n",
       "      <td>-0.620373</td>\n",
       "      <td>0.315616</td>\n",
       "      <td>...</td>\n",
       "      <td>0.169906</td>\n",
       "      <td>0.508843</td>\n",
       "      <td>0.620346</td>\n",
       "      <td>0.078642</td>\n",
       "      <td>-0.079546</td>\n",
       "      <td>0.0</td>\n",
       "      <td>1.397616</td>\n",
       "      <td>2.160556</td>\n",
       "      <td>0.531834</td>\n",
       "      <td>2.069281</td>\n",
       "    </tr>\n",
       "  </tbody>\n",
       "</table>\n",
       "<p>452 rows × 279 columns</p>\n",
       "</div>"
      ],
      "text/plain": [
       "          0         1         2         3         4         5         6    \\\n",
       "0    0.944089 -1.107520  0.264265  0.291426  3.719176 -0.382935  2.122797   \n",
       "1    0.032147 -1.107520  0.075734  0.713814  0.005190 -0.293634  0.053737   \n",
       "2   -0.150242  0.902918 -0.301328 -0.191303 -0.581229 -0.851761 -0.126182   \n",
       "3   -0.028650 -1.107520  0.048801 -0.493009  0.721924  0.666345  1.373138   \n",
       "4   -0.271834  0.902918 -0.247462 -0.191303 -0.190283 -1.030362  0.203669   \n",
       "..        ...       ...       ...       ...       ...       ...       ...   \n",
       "447  1.308866 -1.107520 -0.058931 -0.915397 -0.646387  0.331468 -0.096195   \n",
       "448 -0.940592  0.902918 -0.139730  0.291426  0.265820  0.398444 -0.186154   \n",
       "449 -0.089446  0.902918 -0.220529 -0.191303 -0.450914 -0.740136 -0.935814   \n",
       "450 -0.089446 -1.107520  0.183466  0.110403  0.917397 -0.003408 -0.516005   \n",
       "451 -0.697407  0.902918 -0.058931  1.558590 -0.255441  1.001221  0.533519   \n",
       "\n",
       "          7         8         9    ...       269       270       271  \\\n",
       "0    3.176155 -0.116459 -0.389523  ... -2.484010  0.508843  0.360906   \n",
       "1   -0.419994  0.038591 -0.631914  ...  0.004037 -0.403120  0.101467   \n",
       "2   -0.785228 -0.697898  0.491900  ...  0.169906  0.508843 -0.820984   \n",
       "3   -0.644753  0.116116 -1.006519  ... -0.161833 -0.403120  0.591519   \n",
       "4   -0.082855 -1.124287  0.712256  ... -1.820531 -0.220727  2.378768   \n",
       "..        ...       ...       ...  ...       ...       ...       ...   \n",
       "447  0.057619  0.620030  0.293580  ...  0.667516  0.508843 -0.244452   \n",
       "448 -0.167140  0.697555  0.646150  ...  0.501646 -0.767905 -0.157972   \n",
       "449  0.113809 -1.046762  0.095260  ...  0.833385 -0.403120 -0.359758   \n",
       "450  2.220928 -0.581611 -0.720056  ... -1.820531  0.508843  0.447386   \n",
       "451  0.113809 -0.620373  0.315616  ...  0.169906  0.508843  0.620346   \n",
       "\n",
       "          272       273  274       275       276       277       278  \n",
       "0    0.728573 -0.079546  0.0 -1.194952 -1.981325  3.601007  0.851317  \n",
       "1    0.728573 -0.079546  0.0  0.533427  0.124716  0.198228  0.185497  \n",
       "2    0.728573 -0.079546  0.0 -0.042700 -0.085888 -0.239166 -0.307102  \n",
       "3   -0.171331 -0.079546  0.0 -0.042700  0.335320  0.235295  0.174671  \n",
       "4    0.728573 -0.079546  0.0 -0.042700  0.896931  1.621613  1.879820  \n",
       "..        ...       ...  ...       ...       ...       ...       ...  \n",
       "447  0.328615 -0.079546  0.0  0.533427  1.037334 -0.039003  0.645617  \n",
       "448  0.728573 -0.079546  0.0  0.533427  0.194918  0.902507  0.759293  \n",
       "449  0.378610 -0.079546  0.0 -1.771079  0.896931 -0.127964  0.602311  \n",
       "450 -0.571289 -0.079546  0.0  1.109553 -1.840922  0.502180 -1.135317  \n",
       "451  0.078642 -0.079546  0.0  1.397616  2.160556  0.531834  2.069281  \n",
       "\n",
       "[452 rows x 279 columns]"
      ]
     },
     "execution_count": 931,
     "metadata": {},
     "output_type": "execute_result"
    }
   ],
   "source": [
    "from sklearn.preprocessing import StandardScaler\n",
    "scaler=StandardScaler()\n",
    "x_scaler=scaler.fit_transform(df.drop(\"Class\", axis=1))\n",
    "dfx = pd.DataFrame(x_scaler)\n",
    "dfx"
   ]
  },
  {
   "cell_type": "code",
   "execution_count": 932,
   "id": "c6edd51f",
   "metadata": {},
   "outputs": [],
   "source": [
    "#pip install fast_ml"
   ]
  },
  {
   "cell_type": "code",
   "execution_count": 933,
   "id": "5a25748b",
   "metadata": {},
   "outputs": [
    {
     "data": {
      "text/html": [
       "<div>\n",
       "<style scoped>\n",
       "    .dataframe tbody tr th:only-of-type {\n",
       "        vertical-align: middle;\n",
       "    }\n",
       "\n",
       "    .dataframe tbody tr th {\n",
       "        vertical-align: top;\n",
       "    }\n",
       "\n",
       "    .dataframe thead th {\n",
       "        text-align: right;\n",
       "    }\n",
       "</style>\n",
       "<table border=\"1\" class=\"dataframe\">\n",
       "  <thead>\n",
       "    <tr style=\"text-align: right;\">\n",
       "      <th></th>\n",
       "      <th>Age</th>\n",
       "      <th>Sex</th>\n",
       "      <th>Height</th>\n",
       "      <th>Weight</th>\n",
       "      <th>QRS_Dur</th>\n",
       "      <th>P-R_Int</th>\n",
       "      <th>Q-T_Int</th>\n",
       "      <th>T_Int</th>\n",
       "      <th>P_Int</th>\n",
       "      <th>QRS</th>\n",
       "      <th>...</th>\n",
       "      <th>V6270</th>\n",
       "      <th>V6271</th>\n",
       "      <th>V6272</th>\n",
       "      <th>V6273</th>\n",
       "      <th>V6274</th>\n",
       "      <th>V6275</th>\n",
       "      <th>V6276</th>\n",
       "      <th>V6277</th>\n",
       "      <th>V6278</th>\n",
       "      <th>V6279</th>\n",
       "    </tr>\n",
       "  </thead>\n",
       "  <tbody>\n",
       "    <tr>\n",
       "      <th>0</th>\n",
       "      <td>62.0</td>\n",
       "      <td>0.0</td>\n",
       "      <td>176.0</td>\n",
       "      <td>73.0</td>\n",
       "      <td>146.0</td>\n",
       "      <td>138.0</td>\n",
       "      <td>438.0</td>\n",
       "      <td>283.0</td>\n",
       "      <td>87.0</td>\n",
       "      <td>16.0</td>\n",
       "      <td>...</td>\n",
       "      <td>-1.8</td>\n",
       "      <td>0.0</td>\n",
       "      <td>10.3</td>\n",
       "      <td>0.0</td>\n",
       "      <td>0.0</td>\n",
       "      <td>0.0</td>\n",
       "      <td>0.1</td>\n",
       "      <td>-1.6</td>\n",
       "      <td>67.9</td>\n",
       "      <td>45.2</td>\n",
       "    </tr>\n",
       "    <tr>\n",
       "      <th>1</th>\n",
       "      <td>47.0</td>\n",
       "      <td>0.0</td>\n",
       "      <td>169.0</td>\n",
       "      <td>80.0</td>\n",
       "      <td>89.0</td>\n",
       "      <td>142.0</td>\n",
       "      <td>369.0</td>\n",
       "      <td>155.0</td>\n",
       "      <td>91.0</td>\n",
       "      <td>5.0</td>\n",
       "      <td>...</td>\n",
       "      <td>-0.3</td>\n",
       "      <td>-0.5</td>\n",
       "      <td>9.4</td>\n",
       "      <td>0.0</td>\n",
       "      <td>0.0</td>\n",
       "      <td>0.0</td>\n",
       "      <td>0.7</td>\n",
       "      <td>1.4</td>\n",
       "      <td>22.0</td>\n",
       "      <td>32.9</td>\n",
       "    </tr>\n",
       "    <tr>\n",
       "      <th>2</th>\n",
       "      <td>44.0</td>\n",
       "      <td>1.0</td>\n",
       "      <td>155.0</td>\n",
       "      <td>65.0</td>\n",
       "      <td>80.0</td>\n",
       "      <td>117.0</td>\n",
       "      <td>363.0</td>\n",
       "      <td>142.0</td>\n",
       "      <td>72.0</td>\n",
       "      <td>56.0</td>\n",
       "      <td>...</td>\n",
       "      <td>-0.2</td>\n",
       "      <td>0.0</td>\n",
       "      <td>6.2</td>\n",
       "      <td>0.0</td>\n",
       "      <td>0.0</td>\n",
       "      <td>0.0</td>\n",
       "      <td>0.5</td>\n",
       "      <td>1.1</td>\n",
       "      <td>16.1</td>\n",
       "      <td>23.8</td>\n",
       "    </tr>\n",
       "    <tr>\n",
       "      <th>3</th>\n",
       "      <td>46.0</td>\n",
       "      <td>0.0</td>\n",
       "      <td>168.0</td>\n",
       "      <td>60.0</td>\n",
       "      <td>100.0</td>\n",
       "      <td>185.0</td>\n",
       "      <td>413.0</td>\n",
       "      <td>147.0</td>\n",
       "      <td>93.0</td>\n",
       "      <td>-12.0</td>\n",
       "      <td>...</td>\n",
       "      <td>-0.4</td>\n",
       "      <td>-0.5</td>\n",
       "      <td>11.1</td>\n",
       "      <td>-1.8</td>\n",
       "      <td>0.0</td>\n",
       "      <td>0.0</td>\n",
       "      <td>0.5</td>\n",
       "      <td>1.7</td>\n",
       "      <td>22.5</td>\n",
       "      <td>32.7</td>\n",
       "    </tr>\n",
       "    <tr>\n",
       "      <th>4</th>\n",
       "      <td>42.0</td>\n",
       "      <td>1.0</td>\n",
       "      <td>157.0</td>\n",
       "      <td>65.0</td>\n",
       "      <td>86.0</td>\n",
       "      <td>109.0</td>\n",
       "      <td>374.0</td>\n",
       "      <td>167.0</td>\n",
       "      <td>61.0</td>\n",
       "      <td>66.0</td>\n",
       "      <td>...</td>\n",
       "      <td>-1.4</td>\n",
       "      <td>-0.4</td>\n",
       "      <td>17.3</td>\n",
       "      <td>0.0</td>\n",
       "      <td>0.0</td>\n",
       "      <td>0.0</td>\n",
       "      <td>0.5</td>\n",
       "      <td>2.5</td>\n",
       "      <td>41.2</td>\n",
       "      <td>64.2</td>\n",
       "    </tr>\n",
       "    <tr>\n",
       "      <th>...</th>\n",
       "      <td>...</td>\n",
       "      <td>...</td>\n",
       "      <td>...</td>\n",
       "      <td>...</td>\n",
       "      <td>...</td>\n",
       "      <td>...</td>\n",
       "      <td>...</td>\n",
       "      <td>...</td>\n",
       "      <td>...</td>\n",
       "      <td>...</td>\n",
       "      <td>...</td>\n",
       "      <td>...</td>\n",
       "      <td>...</td>\n",
       "      <td>...</td>\n",
       "      <td>...</td>\n",
       "      <td>...</td>\n",
       "      <td>...</td>\n",
       "      <td>...</td>\n",
       "      <td>...</td>\n",
       "      <td>...</td>\n",
       "      <td>...</td>\n",
       "    </tr>\n",
       "    <tr>\n",
       "      <th>447</th>\n",
       "      <td>68.0</td>\n",
       "      <td>0.0</td>\n",
       "      <td>164.0</td>\n",
       "      <td>53.0</td>\n",
       "      <td>79.0</td>\n",
       "      <td>170.0</td>\n",
       "      <td>364.0</td>\n",
       "      <td>172.0</td>\n",
       "      <td>106.0</td>\n",
       "      <td>47.0</td>\n",
       "      <td>...</td>\n",
       "      <td>0.1</td>\n",
       "      <td>0.0</td>\n",
       "      <td>8.2</td>\n",
       "      <td>-0.8</td>\n",
       "      <td>0.0</td>\n",
       "      <td>0.0</td>\n",
       "      <td>0.7</td>\n",
       "      <td>2.7</td>\n",
       "      <td>18.8</td>\n",
       "      <td>41.4</td>\n",
       "    </tr>\n",
       "    <tr>\n",
       "      <th>448</th>\n",
       "      <td>31.0</td>\n",
       "      <td>1.0</td>\n",
       "      <td>161.0</td>\n",
       "      <td>73.0</td>\n",
       "      <td>93.0</td>\n",
       "      <td>173.0</td>\n",
       "      <td>361.0</td>\n",
       "      <td>164.0</td>\n",
       "      <td>108.0</td>\n",
       "      <td>63.0</td>\n",
       "      <td>...</td>\n",
       "      <td>0.0</td>\n",
       "      <td>-0.7</td>\n",
       "      <td>8.5</td>\n",
       "      <td>0.0</td>\n",
       "      <td>0.0</td>\n",
       "      <td>0.0</td>\n",
       "      <td>0.7</td>\n",
       "      <td>1.5</td>\n",
       "      <td>31.5</td>\n",
       "      <td>43.5</td>\n",
       "    </tr>\n",
       "    <tr>\n",
       "      <th>449</th>\n",
       "      <td>45.0</td>\n",
       "      <td>1.0</td>\n",
       "      <td>158.0</td>\n",
       "      <td>65.0</td>\n",
       "      <td>82.0</td>\n",
       "      <td>122.0</td>\n",
       "      <td>336.0</td>\n",
       "      <td>174.0</td>\n",
       "      <td>63.0</td>\n",
       "      <td>38.0</td>\n",
       "      <td>...</td>\n",
       "      <td>0.2</td>\n",
       "      <td>-0.5</td>\n",
       "      <td>7.8</td>\n",
       "      <td>-0.7</td>\n",
       "      <td>0.0</td>\n",
       "      <td>0.0</td>\n",
       "      <td>-0.1</td>\n",
       "      <td>2.5</td>\n",
       "      <td>17.6</td>\n",
       "      <td>40.6</td>\n",
       "    </tr>\n",
       "    <tr>\n",
       "      <th>450</th>\n",
       "      <td>45.0</td>\n",
       "      <td>0.0</td>\n",
       "      <td>173.0</td>\n",
       "      <td>70.0</td>\n",
       "      <td>103.0</td>\n",
       "      <td>155.0</td>\n",
       "      <td>350.0</td>\n",
       "      <td>249.0</td>\n",
       "      <td>75.0</td>\n",
       "      <td>1.0</td>\n",
       "      <td>...</td>\n",
       "      <td>-1.4</td>\n",
       "      <td>0.0</td>\n",
       "      <td>10.6</td>\n",
       "      <td>-2.6</td>\n",
       "      <td>0.0</td>\n",
       "      <td>0.0</td>\n",
       "      <td>0.9</td>\n",
       "      <td>-1.4</td>\n",
       "      <td>26.1</td>\n",
       "      <td>8.5</td>\n",
       "    </tr>\n",
       "    <tr>\n",
       "      <th>451</th>\n",
       "      <td>35.0</td>\n",
       "      <td>1.0</td>\n",
       "      <td>164.0</td>\n",
       "      <td>94.0</td>\n",
       "      <td>85.0</td>\n",
       "      <td>200.0</td>\n",
       "      <td>385.0</td>\n",
       "      <td>174.0</td>\n",
       "      <td>74.0</td>\n",
       "      <td>48.0</td>\n",
       "      <td>...</td>\n",
       "      <td>-0.2</td>\n",
       "      <td>0.0</td>\n",
       "      <td>11.2</td>\n",
       "      <td>-1.3</td>\n",
       "      <td>0.0</td>\n",
       "      <td>0.0</td>\n",
       "      <td>1.0</td>\n",
       "      <td>4.3</td>\n",
       "      <td>26.5</td>\n",
       "      <td>67.7</td>\n",
       "    </tr>\n",
       "  </tbody>\n",
       "</table>\n",
       "<p>452 rows × 279 columns</p>\n",
       "</div>"
      ],
      "text/plain": [
       "      Age  Sex  Height  Weight  QRS_Dur  P-R_Int  Q-T_Int  T_Int  P_Int   QRS  \\\n",
       "0    62.0  0.0   176.0    73.0    146.0    138.0    438.0  283.0   87.0  16.0   \n",
       "1    47.0  0.0   169.0    80.0     89.0    142.0    369.0  155.0   91.0   5.0   \n",
       "2    44.0  1.0   155.0    65.0     80.0    117.0    363.0  142.0   72.0  56.0   \n",
       "3    46.0  0.0   168.0    60.0    100.0    185.0    413.0  147.0   93.0 -12.0   \n",
       "4    42.0  1.0   157.0    65.0     86.0    109.0    374.0  167.0   61.0  66.0   \n",
       "..    ...  ...     ...     ...      ...      ...      ...    ...    ...   ...   \n",
       "447  68.0  0.0   164.0    53.0     79.0    170.0    364.0  172.0  106.0  47.0   \n",
       "448  31.0  1.0   161.0    73.0     93.0    173.0    361.0  164.0  108.0  63.0   \n",
       "449  45.0  1.0   158.0    65.0     82.0    122.0    336.0  174.0   63.0  38.0   \n",
       "450  45.0  0.0   173.0    70.0    103.0    155.0    350.0  249.0   75.0   1.0   \n",
       "451  35.0  1.0   164.0    94.0     85.0    200.0    385.0  174.0   74.0  48.0   \n",
       "\n",
       "     ...  V6270  V6271  V6272  V6273  V6274  V6275  V6276  V6277  V6278  V6279  \n",
       "0    ...   -1.8    0.0   10.3    0.0    0.0    0.0    0.1   -1.6   67.9   45.2  \n",
       "1    ...   -0.3   -0.5    9.4    0.0    0.0    0.0    0.7    1.4   22.0   32.9  \n",
       "2    ...   -0.2    0.0    6.2    0.0    0.0    0.0    0.5    1.1   16.1   23.8  \n",
       "3    ...   -0.4   -0.5   11.1   -1.8    0.0    0.0    0.5    1.7   22.5   32.7  \n",
       "4    ...   -1.4   -0.4   17.3    0.0    0.0    0.0    0.5    2.5   41.2   64.2  \n",
       "..   ...    ...    ...    ...    ...    ...    ...    ...    ...    ...    ...  \n",
       "447  ...    0.1    0.0    8.2   -0.8    0.0    0.0    0.7    2.7   18.8   41.4  \n",
       "448  ...    0.0   -0.7    8.5    0.0    0.0    0.0    0.7    1.5   31.5   43.5  \n",
       "449  ...    0.2   -0.5    7.8   -0.7    0.0    0.0   -0.1    2.5   17.6   40.6  \n",
       "450  ...   -1.4    0.0   10.6   -2.6    0.0    0.0    0.9   -1.4   26.1    8.5  \n",
       "451  ...   -0.2    0.0   11.2   -1.3    0.0    0.0    1.0    4.3   26.5   67.7  \n",
       "\n",
       "[452 rows x 279 columns]"
      ]
     },
     "execution_count": 933,
     "metadata": {},
     "output_type": "execute_result"
    }
   ],
   "source": [
    "x=df.drop(\"Class\", axis=1)\n",
    "x"
   ]
  },
  {
   "cell_type": "code",
   "execution_count": 934,
   "id": "546725cd",
   "metadata": {},
   "outputs": [
    {
     "data": {
      "text/plain": [
       "0       9.0\n",
       "1       1.0\n",
       "2       1.0\n",
       "3      16.0\n",
       "4       1.0\n",
       "       ... \n",
       "447     1.0\n",
       "448     1.0\n",
       "449     1.0\n",
       "450     2.0\n",
       "451    10.0\n",
       "Name: Class, Length: 452, dtype: float64"
      ]
     },
     "execution_count": 934,
     "metadata": {},
     "output_type": "execute_result"
    }
   ],
   "source": [
    "df[\"Class\"]"
   ]
  },
  {
   "cell_type": "code",
   "execution_count": null,
   "id": "054b2347",
   "metadata": {},
   "outputs": [],
   "source": []
  },
  {
   "cell_type": "code",
   "execution_count": 935,
   "id": "22f6aeed",
   "metadata": {},
   "outputs": [
    {
     "data": {
      "text/plain": [
       "(452, 25)"
      ]
     },
     "execution_count": 935,
     "metadata": {},
     "output_type": "execute_result"
    }
   ],
   "source": [
    "from sklearn.feature_selection import mutual_info_classif, SelectKBest\n",
    "#dfx = np.nan_to_num(dfx) \n",
    "#mutual_info_classif\n",
    "fs = SelectKBest(score_func=mutual_info_classif ,k=25)\n",
    "X_selected = fs.fit_transform(x, df[\"Class\"])\n",
    "X_selected.shape"
   ]
  },
  {
   "cell_type": "code",
   "execution_count": 936,
   "id": "521c6239",
   "metadata": {},
   "outputs": [
    {
     "data": {
      "text/plain": [
       "array([0.        , 0.        , 0.        , 0.        , 0.        ,\n",
       "       0.        , 0.        , 0.        , 0.        , 0.        ,\n",
       "       0.        , 0.        , 0.        , 0.        , 0.        ,\n",
       "       0.        , 0.        , 0.        , 0.        , 0.        ,\n",
       "       0.        , 0.        , 0.        , 0.        , 0.        ,\n",
       "       0.        , 0.        , 0.        , 0.        , 0.        ,\n",
       "       0.        , 0.        , 0.        , 0.        , 0.        ,\n",
       "       0.        , 0.        , 0.        , 0.        , 0.        ,\n",
       "       0.        , 0.        , 0.        , 0.        , 0.        ,\n",
       "       0.        , 0.        , 0.        , 0.        , 0.        ,\n",
       "       0.        , 0.        , 0.        , 0.        , 0.        ,\n",
       "       0.        , 0.        , 0.        , 0.        , 0.        ,\n",
       "       0.        , 0.        , 0.00038223, 0.00112   , 0.00116496,\n",
       "       0.00128857, 0.00158405, 0.00220576, 0.00314251, 0.00322066,\n",
       "       0.00342084, 0.00429318, 0.00486951, 0.00526327, 0.00563456,\n",
       "       0.0066751 , 0.00758518, 0.0082126 , 0.00826769, 0.00867537,\n",
       "       0.00889789, 0.00928321, 0.00969971, 0.01023029, 0.01068742,\n",
       "       0.01079706, 0.0109265 , 0.01097467, 0.01234703, 0.01256102,\n",
       "       0.01270151, 0.01318049, 0.01349028, 0.01413375, 0.01524737,\n",
       "       0.01538821, 0.01651543, 0.01780421, 0.01790074, 0.0179565 ,\n",
       "       0.01814286, 0.01951617, 0.01966605, 0.02002481, 0.02006245,\n",
       "       0.02021466, 0.02042227, 0.02080293, 0.02111848, 0.02292872,\n",
       "       0.02315435, 0.02316218, 0.02342538, 0.02353677, 0.0243258 ,\n",
       "       0.02446142, 0.02534009, 0.0255784 , 0.02632791, 0.02829218,\n",
       "       0.02867951, 0.02874708, 0.02937039, 0.03014003, 0.03045516,\n",
       "       0.03086398, 0.0308896 , 0.03134287, 0.03175182, 0.03345242,\n",
       "       0.03352615, 0.03400117, 0.0346393 , 0.03511335, 0.03511933,\n",
       "       0.03717674, 0.03745342, 0.03778288, 0.03815826, 0.03820681,\n",
       "       0.03824124, 0.03837923, 0.03904473, 0.03930075, 0.03939651,\n",
       "       0.0402586 , 0.04082859, 0.0409743 , 0.04126623, 0.04147055,\n",
       "       0.04220608, 0.04278337, 0.04308718, 0.04483918, 0.04595648,\n",
       "       0.0460595 , 0.04681638, 0.04785263, 0.04856307, 0.04939592,\n",
       "       0.05223229, 0.05420129, 0.05455289, 0.05587751, 0.05694751,\n",
       "       0.05780884, 0.05816924, 0.05891868, 0.05902324, 0.05965018,\n",
       "       0.06186405, 0.06327651, 0.06404953, 0.06454118, 0.06481448,\n",
       "       0.0648531 , 0.06497108, 0.06512261, 0.06630085, 0.0663926 ,\n",
       "       0.06762151, 0.06780546, 0.06817116, 0.07196869, 0.07340018,\n",
       "       0.07417515, 0.07445657, 0.0758609 , 0.07615195, 0.07795122,\n",
       "       0.07906573, 0.07988416, 0.08216243, 0.08415608, 0.0845818 ,\n",
       "       0.08581862, 0.08682073, 0.08718538, 0.08762058, 0.08938203,\n",
       "       0.08945445, 0.08956098, 0.08969139, 0.0909149 , 0.09191306,\n",
       "       0.09195891, 0.09214954, 0.09500404, 0.09592484, 0.09609568,\n",
       "       0.09612697, 0.0971413 , 0.0979078 , 0.09865083, 0.09998128,\n",
       "       0.10359797, 0.10368791, 0.10400038, 0.10402692, 0.10457632,\n",
       "       0.1046664 , 0.10614665, 0.10796618, 0.1082875 , 0.10995265,\n",
       "       0.11151427, 0.11631168, 0.11715791, 0.11783192, 0.11838553,\n",
       "       0.11930906, 0.11985539, 0.1198847 , 0.12021178, 0.12073529,\n",
       "       0.12102817, 0.12212726, 0.12240182, 0.12292957, 0.12327782,\n",
       "       0.1234801 , 0.12395871, 0.12511476, 0.13027663, 0.13115821,\n",
       "       0.13376462, 0.13468169, 0.13485345, 0.13528153, 0.13634479,\n",
       "       0.13859478, 0.13875701, 0.14178889, 0.14297512, 0.14583187,\n",
       "       0.145887  , 0.14805257, 0.14931959, 0.149791  , 0.15043331,\n",
       "       0.15400662, 0.15443061, 0.15552309, 0.15908205, 0.15990213,\n",
       "       0.1627767 , 0.16613296, 0.16901246, 0.17729129, 0.17814368,\n",
       "       0.18768565, 0.19122567, 0.20174218, 0.22030836, 0.22825829,\n",
       "       0.23016676, 0.23566471, 0.23576106, 0.30069427])"
      ]
     },
     "execution_count": 936,
     "metadata": {},
     "output_type": "execute_result"
    }
   ],
   "source": [
    "x_sel=fs.scores_\n",
    "np.sort(x_sel)"
   ]
  },
  {
   "cell_type": "code",
   "execution_count": 937,
   "id": "c9e99443",
   "metadata": {},
   "outputs": [
    {
     "data": {
      "image/png": "[encoded data removed]",
      "text/plain": [
       "<Figure size 5760x3600 with 1 Axes>"
      ]
     },
     "metadata": {
      "needs_background": "light"
     },
     "output_type": "display_data"
    }
   ],
   "source": [
    "import matplotlib.pyplot as plt\n",
    "\n",
    "\n",
    "\n",
    "X = np.arange(279)\n",
    "d = pd.DataFrame(x_sel)\n",
    "\n",
    "\n",
    "d.plot.bar( rot=20, fontsize=30, figsize=(80,50))\n",
    "\n",
    "plt.show()\n",
    "\n",
    "plt.show()"
   ]
  },
  {
   "cell_type": "code",
   "execution_count": 938,
   "id": "eec082c9",
   "metadata": {},
   "outputs": [],
   "source": [
    "from sklearn.model_selection import KFold\n",
    "cross_= KFold(n_splits=5, shuffle=True)"
   ]
  },
  {
   "cell_type": "code",
   "execution_count": 939,
   "id": "12e0f7b5",
   "metadata": {},
   "outputs": [],
   "source": [
    "#knn with k-flod\n"
   ]
  },
  {
   "cell_type": "code",
   "execution_count": 940,
   "id": "bbf510a3",
   "metadata": {},
   "outputs": [],
   "source": [
    "accuracy=[]  \n",
    "precision = []   \n",
    "recall = []      \n",
    "f1score = []    \n",
    "y=data[\"Class\"]\n",
    "x=X_selected\n",
    "\n",
    "for i in range(1,31):\n",
    "    accuracy.append(cross_val_score(KNeighborsClassifier(),x,y,cv=cross_, scoring = make_scorer(accuracy_score)))\n",
    "    precision.append(cross_val_score(KNeighborsClassifier(),x,y,cv=cross_, scoring = make_scorer(precision_score, average ='micro')))  \n",
    "    recall.append(cross_val_score(KNeighborsClassifier(),x,y,cv=cross_, scoring = make_scorer(recall_score, average ='micro'))) \n",
    "    f1score.append(cross_val_score(KNeighborsClassifier(),x,y,cv=cross_, scoring = make_scorer(f1_score, average ='micro'))) "
   ]
  },
  {
   "cell_type": "code",
   "execution_count": 941,
   "id": "898f41c7",
   "metadata": {},
   "outputs": [
    {
     "data": {
      "text/plain": [
       "0.6043956043956044"
      ]
     },
     "execution_count": 941,
     "metadata": {},
     "output_type": "execute_result"
    }
   ],
   "source": [
    "x3=np.max(accuracy)\n",
    "x3"
   ]
  },
  {
   "cell_type": "code",
   "execution_count": 942,
   "id": "bfd57a63",
   "metadata": {},
   "outputs": [
    {
     "data": {
      "text/plain": [
       "0.36666666666666664"
      ]
     },
     "execution_count": 942,
     "metadata": {},
     "output_type": "execute_result"
    }
   ],
   "source": [
    "x2=np.min(accuracy)\n",
    "x2"
   ]
  },
  {
   "cell_type": "code",
   "execution_count": 943,
   "id": "f01a5bd5",
   "metadata": {},
   "outputs": [
    {
     "data": {
      "text/plain": [
       "0.045876254255640146"
      ]
     },
     "execution_count": 943,
     "metadata": {},
     "output_type": "execute_result"
    }
   ],
   "source": [
    "x1=np.std(accuracy)\n",
    "x1"
   ]
  },
  {
   "cell_type": "code",
   "execution_count": 944,
   "id": "7fe8d157",
   "metadata": {},
   "outputs": [
    {
     "data": {
      "text/plain": [
       "0.4957289377289376"
      ]
     },
     "execution_count": 944,
     "metadata": {},
     "output_type": "execute_result"
    }
   ],
   "source": [
    "x4=np.mean(accuracy)\n",
    "x4"
   ]
  },
  {
   "cell_type": "code",
   "execution_count": 945,
   "id": "0da1a45d",
   "metadata": {},
   "outputs": [
    {
     "data": {
      "text/plain": [
       "0.4972153032153032"
      ]
     },
     "execution_count": 945,
     "metadata": {},
     "output_type": "execute_result"
    }
   ],
   "source": [
    "a4=np.mean(precision )\n",
    "a4"
   ]
  },
  {
   "cell_type": "code",
   "execution_count": 946,
   "id": "cbdf6b75",
   "metadata": {},
   "outputs": [
    {
     "data": {
      "text/plain": [
       "0.5934065934065934"
      ]
     },
     "execution_count": 946,
     "metadata": {},
     "output_type": "execute_result"
    }
   ],
   "source": [
    "a3=np.max(precision )\n",
    "a3"
   ]
  },
  {
   "cell_type": "code",
   "execution_count": 947,
   "id": "99447a14",
   "metadata": {},
   "outputs": [
    {
     "data": {
      "text/plain": [
       "0.3888888888888889"
      ]
     },
     "execution_count": 947,
     "metadata": {},
     "output_type": "execute_result"
    }
   ],
   "source": [
    "a2=np.min(precision )\n",
    "a2"
   ]
  },
  {
   "cell_type": "code",
   "execution_count": 948,
   "id": "d168285b",
   "metadata": {},
   "outputs": [
    {
     "data": {
      "text/plain": [
       "0.04236779393379711"
      ]
     },
     "execution_count": 948,
     "metadata": {},
     "output_type": "execute_result"
    }
   ],
   "source": [
    "a1=np.std(precision )\n",
    "a1"
   ]
  },
  {
   "cell_type": "code",
   "execution_count": 949,
   "id": "96664279",
   "metadata": {},
   "outputs": [
    {
     "data": {
      "text/plain": [
       "0.36666666666666664"
      ]
     },
     "execution_count": 949,
     "metadata": {},
     "output_type": "execute_result"
    }
   ],
   "source": [
    "e2=np.min(recall)\n",
    "e2"
   ]
  },
  {
   "cell_type": "code",
   "execution_count": 950,
   "id": "a8bfd943",
   "metadata": {},
   "outputs": [
    {
     "data": {
      "text/plain": [
       "0.5934065934065934"
      ]
     },
     "execution_count": 950,
     "metadata": {},
     "output_type": "execute_result"
    }
   ],
   "source": [
    "e3=np.max(recall)\n",
    "e3"
   ]
  },
  {
   "cell_type": "code",
   "execution_count": 951,
   "id": "d45cdfa4",
   "metadata": {},
   "outputs": [
    {
     "data": {
      "text/plain": [
       "0.043988466471356624"
      ]
     },
     "execution_count": 951,
     "metadata": {},
     "output_type": "execute_result"
    }
   ],
   "source": [
    "e1=np.std(recall)\n",
    "e1"
   ]
  },
  {
   "cell_type": "code",
   "execution_count": 952,
   "id": "18cdf86e",
   "metadata": {},
   "outputs": [
    {
     "data": {
      "text/plain": [
       "0.49316483516483517"
      ]
     },
     "execution_count": 952,
     "metadata": {},
     "output_type": "execute_result"
    }
   ],
   "source": [
    "e4=np.mean(recall)\n",
    "e4"
   ]
  },
  {
   "cell_type": "code",
   "execution_count": 953,
   "id": "be674503",
   "metadata": {},
   "outputs": [
    {
     "data": {
      "text/plain": [
       "0.6111111111111112"
      ]
     },
     "execution_count": 953,
     "metadata": {},
     "output_type": "execute_result"
    }
   ],
   "source": [
    "f3=np.max(f1score)\n",
    "f3"
   ]
  },
  {
   "cell_type": "code",
   "execution_count": 954,
   "id": "7575e617",
   "metadata": {},
   "outputs": [
    {
     "data": {
      "text/plain": [
       "0.38461538461538464"
      ]
     },
     "execution_count": 954,
     "metadata": {},
     "output_type": "execute_result"
    }
   ],
   "source": [
    "f2=np.min(f1score)\n",
    "f2"
   ]
  },
  {
   "cell_type": "code",
   "execution_count": 955,
   "id": "35632e6b",
   "metadata": {},
   "outputs": [
    {
     "data": {
      "text/plain": [
       "0.04320135486420645"
      ]
     },
     "execution_count": 955,
     "metadata": {},
     "output_type": "execute_result"
    }
   ],
   "source": [
    "f1=np.std(f1score)\n",
    "f1"
   ]
  },
  {
   "cell_type": "code",
   "execution_count": 956,
   "id": "54ae9eff",
   "metadata": {},
   "outputs": [
    {
     "data": {
      "text/plain": [
       "0.4915726495726496"
      ]
     },
     "execution_count": 956,
     "metadata": {},
     "output_type": "execute_result"
    }
   ],
   "source": [
    "f4=np.mean(f1score)\n",
    "f4"
   ]
  },
  {
   "cell_type": "code",
   "execution_count": 957,
   "id": "dfd15f8f",
   "metadata": {},
   "outputs": [],
   "source": [
    "accuracy2= []    \n",
    "precision2 = []   \n",
    "recall2 = []      \n",
    "f1score2 = []    \n",
    "\n",
    "for i in range(1,30):\n",
    "    accuracy2.append(cross_val_score(SVC(),x,y,cv=cross_, scoring = make_scorer(accuracy_score)))\n",
    "    precision2.append(cross_val_score(SVC(),x,y,cv=cross_, scoring = make_scorer(precision_score, average ='micro'))) \n",
    "    recall2.append(cross_val_score(SVC(),x,y,cv=cross_, scoring = make_scorer(recall_score, average ='micro'))) \n",
    "    f1score2.append(cross_val_score(SVC(),x,y,cv=cross_, scoring = make_scorer(f1_score, average ='micro')))"
   ]
  },
  {
   "cell_type": "code",
   "execution_count": 958,
   "id": "8ce3be95",
   "metadata": {},
   "outputs": [
    {
     "data": {
      "text/plain": [
       "[array([0.57142857, 0.52747253, 0.54444444, 0.51111111, 0.55555556]),\n",
       " array([0.50549451, 0.52747253, 0.55555556, 0.52222222, 0.6       ]),\n",
       " array([0.54945055, 0.54945055, 0.53333333, 0.56666667, 0.51111111]),\n",
       " array([0.54945055, 0.6043956 , 0.6       , 0.5       , 0.45555556]),\n",
       " array([0.58241758, 0.51648352, 0.55555556, 0.53333333, 0.52222222]),\n",
       " array([0.57142857, 0.61538462, 0.53333333, 0.57777778, 0.41111111]),\n",
       " array([0.59340659, 0.58241758, 0.58888889, 0.48888889, 0.45555556]),\n",
       " array([0.53846154, 0.49450549, 0.58888889, 0.54444444, 0.54444444]),\n",
       " array([0.56043956, 0.56043956, 0.52222222, 0.56666667, 0.5       ]),\n",
       " array([0.49450549, 0.53846154, 0.62222222, 0.45555556, 0.6       ]),\n",
       " array([0.56043956, 0.54945055, 0.5       , 0.46666667, 0.63333333]),\n",
       " array([0.53846154, 0.59340659, 0.48888889, 0.53333333, 0.55555556]),\n",
       " array([0.50549451, 0.52747253, 0.62222222, 0.56666667, 0.48888889]),\n",
       " array([0.53846154, 0.58241758, 0.52222222, 0.51111111, 0.55555556]),\n",
       " array([0.48351648, 0.58241758, 0.63333333, 0.56666667, 0.44444444]),\n",
       " array([0.56043956, 0.59340659, 0.5       , 0.58888889, 0.46666667]),\n",
       " array([0.48351648, 0.59340659, 0.61111111, 0.54444444, 0.47777778]),\n",
       " array([0.52747253, 0.54945055, 0.51111111, 0.6       , 0.52222222]),\n",
       " array([0.57142857, 0.63736264, 0.54444444, 0.47777778, 0.47777778]),\n",
       " array([0.51648352, 0.6043956 , 0.58888889, 0.55555556, 0.44444444]),\n",
       " array([0.49450549, 0.57142857, 0.55555556, 0.53333333, 0.55555556]),\n",
       " array([0.54945055, 0.53846154, 0.53333333, 0.53333333, 0.55555556]),\n",
       " array([0.46153846, 0.52747253, 0.61111111, 0.51111111, 0.6       ]),\n",
       " array([0.61538462, 0.53846154, 0.44444444, 0.52222222, 0.58888889]),\n",
       " array([0.67032967, 0.57142857, 0.45555556, 0.47777778, 0.53333333]),\n",
       " array([0.54945055, 0.61538462, 0.54444444, 0.53333333, 0.46666667]),\n",
       " array([0.57142857, 0.57142857, 0.5       , 0.58888889, 0.47777778]),\n",
       " array([0.6043956 , 0.52747253, 0.46666667, 0.54444444, 0.56666667]),\n",
       " array([0.64835165, 0.56043956, 0.46666667, 0.5       , 0.53333333])]"
      ]
     },
     "execution_count": 958,
     "metadata": {},
     "output_type": "execute_result"
    }
   ],
   "source": [
    "accuracy2"
   ]
  },
  {
   "cell_type": "code",
   "execution_count": 959,
   "id": "09802976",
   "metadata": {},
   "outputs": [
    {
     "data": {
      "text/plain": [
       "0.6703296703296703"
      ]
     },
     "execution_count": 959,
     "metadata": {},
     "output_type": "execute_result"
    }
   ],
   "source": [
    "y3=np.max(accuracy2)\n",
    "y3"
   ]
  },
  {
   "cell_type": "code",
   "execution_count": 960,
   "id": "f0549da1",
   "metadata": {},
   "outputs": [
    {
     "data": {
      "text/plain": [
       "0.4111111111111111"
      ]
     },
     "execution_count": 960,
     "metadata": {},
     "output_type": "execute_result"
    }
   ],
   "source": [
    "y2=np.min(accuracy2)\n",
    "y2"
   ]
  },
  {
   "cell_type": "code",
   "execution_count": 961,
   "id": "72355db8",
   "metadata": {},
   "outputs": [
    {
     "data": {
      "text/plain": [
       "0.541967917140331"
      ]
     },
     "execution_count": 961,
     "metadata": {},
     "output_type": "execute_result"
    }
   ],
   "source": [
    "y4=np.mean(accuracy2)\n",
    "y4"
   ]
  },
  {
   "cell_type": "code",
   "execution_count": 962,
   "id": "87b74bc4",
   "metadata": {},
   "outputs": [
    {
     "data": {
      "text/plain": [
       "0.048564124587498834"
      ]
     },
     "execution_count": 962,
     "metadata": {},
     "output_type": "execute_result"
    }
   ],
   "source": [
    "y1=np.std(accuracy2)\n",
    "y1"
   ]
  },
  {
   "cell_type": "code",
   "execution_count": 963,
   "id": "86dd41cd",
   "metadata": {},
   "outputs": [
    {
     "data": {
      "text/plain": [
       "0.6777777777777778"
      ]
     },
     "execution_count": 963,
     "metadata": {},
     "output_type": "execute_result"
    }
   ],
   "source": [
    "b3=np.max(precision2)\n",
    "b3"
   ]
  },
  {
   "cell_type": "code",
   "execution_count": 964,
   "id": "c9a920e3",
   "metadata": {},
   "outputs": [
    {
     "data": {
      "text/plain": [
       "0.42857142857142855"
      ]
     },
     "execution_count": 964,
     "metadata": {},
     "output_type": "execute_result"
    }
   ],
   "source": [
    "b2=np.min(precision2)\n",
    "b2"
   ]
  },
  {
   "cell_type": "code",
   "execution_count": 965,
   "id": "dc3380c8",
   "metadata": {},
   "outputs": [
    {
     "data": {
      "text/plain": [
       "0.04866075190546189"
      ]
     },
     "execution_count": 965,
     "metadata": {},
     "output_type": "execute_result"
    }
   ],
   "source": [
    "b1=np.std(precision2)\n",
    "b1"
   ]
  },
  {
   "cell_type": "code",
   "execution_count": 966,
   "id": "e8e2ce67",
   "metadata": {},
   "outputs": [
    {
     "data": {
      "text/plain": [
       "0.5420369668645532"
      ]
     },
     "execution_count": 966,
     "metadata": {},
     "output_type": "execute_result"
    }
   ],
   "source": [
    "b4=np.mean(precision2)\n",
    "b4"
   ]
  },
  {
   "cell_type": "code",
   "execution_count": 967,
   "id": "919b31f3",
   "metadata": {},
   "outputs": [
    {
     "data": {
      "text/plain": [
       "0.6703296703296703"
      ]
     },
     "execution_count": 967,
     "metadata": {},
     "output_type": "execute_result"
    }
   ],
   "source": [
    "g3=np.max(recall2)\n",
    "g3"
   ]
  },
  {
   "cell_type": "code",
   "execution_count": 968,
   "id": "72b37609",
   "metadata": {},
   "outputs": [
    {
     "data": {
      "text/plain": [
       "0.42857142857142855"
      ]
     },
     "execution_count": 968,
     "metadata": {},
     "output_type": "execute_result"
    }
   ],
   "source": [
    "g2=np.min(recall2)\n",
    "g2"
   ]
  },
  {
   "cell_type": "code",
   "execution_count": 969,
   "id": "266be89f",
   "metadata": {},
   "outputs": [
    {
     "data": {
      "text/plain": [
       "0.5420597027493579"
      ]
     },
     "execution_count": 969,
     "metadata": {},
     "output_type": "execute_result"
    }
   ],
   "source": [
    "g4=np.mean(recall2)\n",
    "g4"
   ]
  },
  {
   "cell_type": "code",
   "execution_count": 970,
   "id": "56a1fa72",
   "metadata": {},
   "outputs": [
    {
     "data": {
      "text/plain": [
       "0.046765310968687676"
      ]
     },
     "execution_count": 970,
     "metadata": {},
     "output_type": "execute_result"
    }
   ],
   "source": [
    "g1=np.std(recall2)\n",
    "g1"
   ]
  },
  {
   "cell_type": "code",
   "execution_count": 971,
   "id": "d29da331",
   "metadata": {},
   "outputs": [
    {
     "data": {
      "text/plain": [
       "0.6813186813186813"
      ]
     },
     "execution_count": 971,
     "metadata": {},
     "output_type": "execute_result"
    }
   ],
   "source": [
    "h3=np.max(f1score2)\n",
    "h3"
   ]
  },
  {
   "cell_type": "code",
   "execution_count": 972,
   "id": "44fe090f",
   "metadata": {},
   "outputs": [
    {
     "data": {
      "text/plain": [
       "0.4111111111111111"
      ]
     },
     "execution_count": 972,
     "metadata": {},
     "output_type": "execute_result"
    }
   ],
   "source": [
    "h2=np.min(f1score2)\n",
    "h2"
   ]
  },
  {
   "cell_type": "code",
   "execution_count": 973,
   "id": "952f6cde",
   "metadata": {},
   "outputs": [
    {
     "data": {
      "text/plain": [
       "0.05154739076601712"
      ]
     },
     "execution_count": 973,
     "metadata": {},
     "output_type": "execute_result"
    }
   ],
   "source": [
    "h1=np.std(f1score2)\n",
    "h1"
   ]
  },
  {
   "cell_type": "code",
   "execution_count": 974,
   "id": "32896b86",
   "metadata": {},
   "outputs": [
    {
     "data": {
      "text/plain": [
       "0.5420344406551303"
      ]
     },
     "execution_count": 974,
     "metadata": {},
     "output_type": "execute_result"
    }
   ],
   "source": [
    "h4=np.mean(f1score2)\n",
    "h4"
   ]
  },
  {
   "cell_type": "code",
   "execution_count": 975,
   "id": "3dc86124",
   "metadata": {},
   "outputs": [],
   "source": [
    "accuracy3= []    \n",
    "precision3 = []   \n",
    "recall3 = []      \n",
    "f1score3 = []    \n",
    "\n",
    "for i in range(1,31):\n",
    "    accuracy3.append(cross_val_score(GaussianNB(),x,y,cv=cross_, scoring = make_scorer(accuracy_score)))\n",
    "    precision3.append(cross_val_score(GaussianNB(),x,y,cv=cross_, scoring = make_scorer(precision_score, average ='micro'))) \n",
    "    recall3.append(cross_val_score(GaussianNB(),x,y,cv=cross_, scoring = make_scorer(recall_score, average ='micro'))) \n",
    "    f1score3.append(cross_val_score(GaussianNB(),x,y,cv=cross_, scoring = make_scorer(f1_score, average ='micro')))"
   ]
  },
  {
   "cell_type": "code",
   "execution_count": 976,
   "id": "21a7db26",
   "metadata": {},
   "outputs": [
    {
     "data": {
      "text/plain": [
       "[array([0.06593407, 0.15384615, 0.12222222, 0.1       , 0.22222222]),\n",
       " array([0.14285714, 0.12087912, 0.07777778, 0.2       , 0.16666667]),\n",
       " array([0.14285714, 0.1978022 , 0.1       , 0.12222222, 0.13333333]),\n",
       " array([0.16483516, 0.18681319, 0.1       , 0.1       , 0.13333333]),\n",
       " array([0.12087912, 0.15384615, 0.12222222, 0.13333333, 0.06666667]),\n",
       " array([0.16483516, 0.08791209, 0.2       , 0.17777778, 0.13333333]),\n",
       " array([0.20879121, 0.12087912, 0.08888889, 0.1       , 0.21111111]),\n",
       " array([0.17582418, 0.0989011 , 0.2       , 0.14444444, 0.11111111]),\n",
       " array([0.10989011, 0.23076923, 0.16666667, 0.1       , 0.08888889]),\n",
       " array([0.0989011 , 0.0989011 , 0.13333333, 0.11111111, 0.22222222]),\n",
       " array([0.0989011 , 0.08791209, 0.17777778, 0.12222222, 0.25555556]),\n",
       " array([0.14285714, 0.15384615, 0.05555556, 0.07777778, 0.24444444]),\n",
       " array([0.18681319, 0.0989011 , 0.11111111, 0.15555556, 0.28888889]),\n",
       " array([0.16483516, 0.15384615, 0.14444444, 0.07777778, 0.23333333]),\n",
       " array([0.13186813, 0.13186813, 0.13333333, 0.1       , 0.2       ]),\n",
       " array([0.18681319, 0.05494505, 0.18888889, 0.13333333, 0.22222222]),\n",
       " array([0.15384615, 0.17582418, 0.02222222, 0.17777778, 0.15555556]),\n",
       " array([0.07692308, 0.16483516, 0.14444444, 0.12222222, 0.26666667]),\n",
       " array([0.17582418, 0.21978022, 0.13333333, 0.07777778, 0.06666667]),\n",
       " array([0.18681319, 0.06593407, 0.11111111, 0.13333333, 0.11111111]),\n",
       " array([0.08791209, 0.14285714, 0.1       , 0.15555556, 0.14444444]),\n",
       " array([0.17582418, 0.16483516, 0.15555556, 0.15555556, 0.08888889]),\n",
       " array([0.14285714, 0.0989011 , 0.06666667, 0.13333333, 0.13333333]),\n",
       " array([0.17582418, 0.17582418, 0.04444444, 0.14444444, 0.16666667]),\n",
       " array([0.26373626, 0.14285714, 0.11111111, 0.15555556, 0.12222222]),\n",
       " array([0.14285714, 0.08791209, 0.15555556, 0.13333333, 0.15555556]),\n",
       " array([0.07692308, 0.08791209, 0.3       , 0.17777778, 0.1       ]),\n",
       " array([0.15384615, 0.07692308, 0.18888889, 0.16666667, 0.13333333]),\n",
       " array([0.10989011, 0.17582418, 0.15555556, 0.05555556, 0.13333333]),\n",
       " array([0.14285714, 0.20879121, 0.13333333, 0.06666667, 0.1       ])]"
      ]
     },
     "execution_count": 976,
     "metadata": {},
     "output_type": "execute_result"
    }
   ],
   "source": [
    "accuracy3"
   ]
  },
  {
   "cell_type": "code",
   "execution_count": 977,
   "id": "79a1168c",
   "metadata": {},
   "outputs": [
    {
     "data": {
      "text/plain": [
       "0.3"
      ]
     },
     "execution_count": 977,
     "metadata": {},
     "output_type": "execute_result"
    }
   ],
   "source": [
    "z3=np.max(accuracy3)\n",
    "z3"
   ]
  },
  {
   "cell_type": "code",
   "execution_count": 978,
   "id": "5fac636d",
   "metadata": {},
   "outputs": [
    {
     "data": {
      "text/plain": [
       "0.022222222222222223"
      ]
     },
     "execution_count": 978,
     "metadata": {},
     "output_type": "execute_result"
    }
   ],
   "source": [
    "z2=np.min(accuracy3)\n",
    "z2"
   ]
  },
  {
   "cell_type": "code",
   "execution_count": 979,
   "id": "0d430fec",
   "metadata": {},
   "outputs": [
    {
     "data": {
      "text/plain": [
       "0.14040781440781439"
      ]
     },
     "execution_count": 979,
     "metadata": {},
     "output_type": "execute_result"
    }
   ],
   "source": [
    "z4=np.mean(accuracy3)\n",
    "z4"
   ]
  },
  {
   "cell_type": "code",
   "execution_count": 980,
   "id": "928becac",
   "metadata": {},
   "outputs": [
    {
     "data": {
      "text/plain": [
       "0.05029456092396385"
      ]
     },
     "execution_count": 980,
     "metadata": {},
     "output_type": "execute_result"
    }
   ],
   "source": [
    "z1=np.std(accuracy3)\n",
    "z1"
   ]
  },
  {
   "cell_type": "code",
   "execution_count": 981,
   "id": "55abe288",
   "metadata": {},
   "outputs": [
    {
     "data": {
      "text/plain": [
       "0.26666666666666666"
      ]
     },
     "execution_count": 981,
     "metadata": {},
     "output_type": "execute_result"
    }
   ],
   "source": [
    "c3=np.max(precision3)\n",
    "c3"
   ]
  },
  {
   "cell_type": "code",
   "execution_count": 982,
   "id": "e2d08156",
   "metadata": {},
   "outputs": [
    {
     "data": {
      "text/plain": [
       "0.03296703296703297"
      ]
     },
     "execution_count": 982,
     "metadata": {},
     "output_type": "execute_result"
    }
   ],
   "source": [
    "c2=np.min(precision3)\n",
    "c2"
   ]
  },
  {
   "cell_type": "code",
   "execution_count": 983,
   "id": "b7f53c13",
   "metadata": {},
   "outputs": [
    {
     "data": {
      "text/plain": [
       "0.13487586487586484"
      ]
     },
     "execution_count": 983,
     "metadata": {},
     "output_type": "execute_result"
    }
   ],
   "source": [
    "c4=np.mean(precision3)\n",
    "c4"
   ]
  },
  {
   "cell_type": "code",
   "execution_count": 984,
   "id": "e491d0f5",
   "metadata": {},
   "outputs": [
    {
     "data": {
      "text/plain": [
       "0.04921828997088189"
      ]
     },
     "execution_count": 984,
     "metadata": {},
     "output_type": "execute_result"
    }
   ],
   "source": [
    "c1=np.std(precision3)\n",
    "c1"
   ]
  },
  {
   "cell_type": "code",
   "execution_count": 985,
   "id": "dee5480b",
   "metadata": {},
   "outputs": [
    {
     "data": {
      "text/plain": [
       "0.27472527472527475"
      ]
     },
     "execution_count": 985,
     "metadata": {},
     "output_type": "execute_result"
    }
   ],
   "source": [
    "i3=np.max(recall3)\n",
    "i3"
   ]
  },
  {
   "cell_type": "code",
   "execution_count": 986,
   "id": "b7465084",
   "metadata": {},
   "outputs": [
    {
     "data": {
      "text/plain": [
       "0.01098901098901099"
      ]
     },
     "execution_count": 986,
     "metadata": {},
     "output_type": "execute_result"
    }
   ],
   "source": [
    "i2=np.min(recall3)\n",
    "i2"
   ]
  },
  {
   "cell_type": "code",
   "execution_count": 987,
   "id": "8d171f0e",
   "metadata": {},
   "outputs": [
    {
     "data": {
      "text/plain": [
       "0.13579731379731375"
      ]
     },
     "execution_count": 987,
     "metadata": {},
     "output_type": "execute_result"
    }
   ],
   "source": [
    "i4=np.mean(recall3)\n",
    "i4"
   ]
  },
  {
   "cell_type": "code",
   "execution_count": 988,
   "id": "656bac87",
   "metadata": {},
   "outputs": [
    {
     "data": {
      "text/plain": [
       "0.047542020646473476"
      ]
     },
     "execution_count": 988,
     "metadata": {},
     "output_type": "execute_result"
    }
   ],
   "source": [
    "i1=np.std(recall3)\n",
    "i1"
   ]
  },
  {
   "cell_type": "code",
   "execution_count": 989,
   "id": "52bfdfac",
   "metadata": {},
   "outputs": [
    {
     "data": {
      "text/plain": [
       "0.2777777777777778"
      ]
     },
     "execution_count": 989,
     "metadata": {},
     "output_type": "execute_result"
    }
   ],
   "source": [
    "j3=np.max(f1score3 )\n",
    "j3"
   ]
  },
  {
   "cell_type": "code",
   "execution_count": 990,
   "id": "667a30de",
   "metadata": {},
   "outputs": [
    {
     "data": {
      "text/plain": [
       "0.1355327635327635"
      ]
     },
     "execution_count": 990,
     "metadata": {},
     "output_type": "execute_result"
    }
   ],
   "source": [
    "j4=np.mean(f1score3 )\n",
    "j4"
   ]
  },
  {
   "cell_type": "code",
   "execution_count": 991,
   "id": "5442508c",
   "metadata": {},
   "outputs": [
    {
     "data": {
      "text/plain": [
       "0.022222222222222223"
      ]
     },
     "execution_count": 991,
     "metadata": {},
     "output_type": "execute_result"
    }
   ],
   "source": [
    "j2=np.min(f1score3 )\n",
    "j2"
   ]
  },
  {
   "cell_type": "code",
   "execution_count": 992,
   "id": "4f855702",
   "metadata": {},
   "outputs": [
    {
     "data": {
      "text/plain": [
       "0.047748614702139244"
      ]
     },
     "execution_count": 992,
     "metadata": {},
     "output_type": "execute_result"
    }
   ],
   "source": [
    "j1=np.std(f1score3 )\n",
    "j1"
   ]
  },
  {
   "cell_type": "code",
   "execution_count": 993,
   "id": "1d4b3f96",
   "metadata": {},
   "outputs": [],
   "source": [
    "accuracy4= []    \n",
    "precision4 = []   \n",
    "recall4 = []      \n",
    "f1score4 = []    \n",
    "\n",
    "for i in range(1,30):\n",
    "    accuracy4.append(cross_val_score(DecisionTreeClassifier(),x,y,cv=cross_, scoring = make_scorer(accuracy_score)))\n",
    "    precision4.append(cross_val_score(DecisionTreeClassifier(),x,y,cv=cross_, scoring = make_scorer(precision_score, average ='micro'))) \n",
    "    recall4.append(cross_val_score(DecisionTreeClassifier(),x,y,cv=cross_, scoring = make_scorer(recall_score, average ='micro'))) \n",
    "    f1score4.append(cross_val_score(DecisionTreeClassifier(),x,y,cv=cross_, scoring = make_scorer(f1_score, average ='micro')))"
   ]
  },
  {
   "cell_type": "code",
   "execution_count": 994,
   "id": "c0cda808",
   "metadata": {},
   "outputs": [
    {
     "data": {
      "text/plain": [
       "0.4222222222222222"
      ]
     },
     "execution_count": 994,
     "metadata": {},
     "output_type": "execute_result"
    }
   ],
   "source": [
    "t3=np.max(accuracy4)\n",
    "t3"
   ]
  },
  {
   "cell_type": "code",
   "execution_count": 995,
   "id": "40e0f395",
   "metadata": {},
   "outputs": [
    {
     "data": {
      "text/plain": [
       "0.16483516483516483"
      ]
     },
     "execution_count": 995,
     "metadata": {},
     "output_type": "execute_result"
    }
   ],
   "source": [
    "t2=np.min(accuracy4)\n",
    "t2"
   ]
  },
  {
   "cell_type": "code",
   "execution_count": 996,
   "id": "7e77d75b",
   "metadata": {},
   "outputs": [
    {
     "data": {
      "text/plain": [
       "0.29693486590038315"
      ]
     },
     "execution_count": 996,
     "metadata": {},
     "output_type": "execute_result"
    }
   ],
   "source": [
    "t4=np.mean(accuracy4)\n",
    "t4"
   ]
  },
  {
   "cell_type": "code",
   "execution_count": 997,
   "id": "8ac8f06f",
   "metadata": {},
   "outputs": [
    {
     "data": {
      "text/plain": [
       "0.0439127583226082"
      ]
     },
     "execution_count": 997,
     "metadata": {},
     "output_type": "execute_result"
    }
   ],
   "source": [
    "t1=np.std(accuracy4)\n",
    "t1"
   ]
  },
  {
   "cell_type": "code",
   "execution_count": 998,
   "id": "71633489",
   "metadata": {},
   "outputs": [
    {
     "data": {
      "text/plain": [
       "0.38461538461538464"
      ]
     },
     "execution_count": 998,
     "metadata": {},
     "output_type": "execute_result"
    }
   ],
   "source": [
    "d3=np.max(precision4)\n",
    "d3"
   ]
  },
  {
   "cell_type": "code",
   "execution_count": 999,
   "id": "cafa9f8e",
   "metadata": {},
   "outputs": [
    {
     "data": {
      "text/plain": [
       "0.2"
      ]
     },
     "execution_count": 999,
     "metadata": {},
     "output_type": "execute_result"
    }
   ],
   "source": [
    "d2=np.min(precision4)\n",
    "d2"
   ]
  },
  {
   "cell_type": "code",
   "execution_count": 1000,
   "id": "0b3808b2",
   "metadata": {},
   "outputs": [
    {
     "data": {
      "text/plain": [
       "0.29095448612689995"
      ]
     },
     "execution_count": 1000,
     "metadata": {},
     "output_type": "execute_result"
    }
   ],
   "source": [
    "d4=np.mean(precision4)\n",
    "d4"
   ]
  },
  {
   "cell_type": "code",
   "execution_count": 1001,
   "id": "e465a29b",
   "metadata": {},
   "outputs": [
    {
     "data": {
      "text/plain": [
       "0.038798610926723084"
      ]
     },
     "execution_count": 1001,
     "metadata": {},
     "output_type": "execute_result"
    }
   ],
   "source": [
    "d1=np.std(precision4)\n",
    "d1"
   ]
  },
  {
   "cell_type": "code",
   "execution_count": 1002,
   "id": "4f6e4199",
   "metadata": {},
   "outputs": [
    {
     "data": {
      "text/plain": [
       "0.43333333333333335"
      ]
     },
     "execution_count": 1002,
     "metadata": {},
     "output_type": "execute_result"
    }
   ],
   "source": [
    "k3=np.max(recall4)\n",
    "k3"
   ]
  },
  {
   "cell_type": "code",
   "execution_count": 1003,
   "id": "dff12321",
   "metadata": {},
   "outputs": [
    {
     "data": {
      "text/plain": [
       "0.1978021978021978"
      ]
     },
     "execution_count": 1003,
     "metadata": {},
     "output_type": "execute_result"
    }
   ],
   "source": [
    "k2=np.min(recall4)\n",
    "k2"
   ]
  },
  {
   "cell_type": "code",
   "execution_count": 1004,
   "id": "cbc0daa9",
   "metadata": {},
   "outputs": [
    {
     "data": {
      "text/plain": [
       "0.29569197086438465"
      ]
     },
     "execution_count": 1004,
     "metadata": {},
     "output_type": "execute_result"
    }
   ],
   "source": [
    "k4=np.mean(recall4)\n",
    "k4"
   ]
  },
  {
   "cell_type": "code",
   "execution_count": 1005,
   "id": "9c2006cb",
   "metadata": {},
   "outputs": [
    {
     "data": {
      "text/plain": [
       "0.041152339050389244"
      ]
     },
     "execution_count": 1005,
     "metadata": {},
     "output_type": "execute_result"
    }
   ],
   "source": [
    "k1=np.std(recall4)\n",
    "k1"
   ]
  },
  {
   "cell_type": "code",
   "execution_count": 1006,
   "id": "29d29c3f",
   "metadata": {},
   "outputs": [
    {
     "data": {
      "text/plain": [
       "0.36666666666666664"
      ]
     },
     "execution_count": 1006,
     "metadata": {},
     "output_type": "execute_result"
    }
   ],
   "source": [
    "l3=np.max(f1score4)\n",
    "l3"
   ]
  },
  {
   "cell_type": "code",
   "execution_count": 1007,
   "id": "9c719f03",
   "metadata": {},
   "outputs": [
    {
     "data": {
      "text/plain": [
       "0.14285714285714285"
      ]
     },
     "execution_count": 1007,
     "metadata": {},
     "output_type": "execute_result"
    }
   ],
   "source": [
    "l2=np.min(f1score4)\n",
    "l2"
   ]
  },
  {
   "cell_type": "code",
   "execution_count": 1008,
   "id": "145e0c1f",
   "metadata": {},
   "outputs": [
    {
     "data": {
      "text/plain": [
       "0.29098816891920337"
      ]
     },
     "execution_count": 1008,
     "metadata": {},
     "output_type": "execute_result"
    }
   ],
   "source": [
    "l4=np.mean(f1score4)\n",
    "l4"
   ]
  },
  {
   "cell_type": "code",
   "execution_count": 1009,
   "id": "f62fc053",
   "metadata": {},
   "outputs": [
    {
     "data": {
      "text/plain": [
       "0.042001794035869074"
      ]
     },
     "execution_count": 1009,
     "metadata": {},
     "output_type": "execute_result"
    }
   ],
   "source": [
    "l1=np.std(f1score4)\n",
    "l1"
   ]
  },
  {
   "cell_type": "code",
   "execution_count": 1010,
   "id": "396b4bee",
   "metadata": {},
   "outputs": [],
   "source": [
    "import pandas as pd\n",
    "import numpy as np\n",
    "\n",
    "path = r\"D:\\tp dami\\data_arythmia_classification2_f.xlsx\"\n",
    "\n",
    "dami={'knn':[x1,x2,x3,x4,a1,a2,a3,a4,e1,e2,e3,e4,f1,f2,f3,f4],'svc':[y1,y2,y3,y4,b1,b2,b3,b4,g1,g2,g3,g4,h1,h2,h3,h4],'bayes':[z1,z2,z3,z4,c1,c2,c3,c4,i1,i2,i3,i4,j1,j2,j3,j4],'arebe de decision':[t1,t2,t3,t4,d1,d2,d3,d4,k1,k2,k3,k4,l1,l2,l3,l4]}\n",
    "df1 = pd.DataFrame(dami,index=['std-accuracy', 'min-accuracy','max-accuracy', 'mean-accuracy','std-precision', 'min-precision','max-precision', 'mean-precision','std-recall', 'min-recall','max-recall', 'mean-recall','std-f1score', 'min-f1score','max-f1score', 'mean-f1score'])\n",
    "\n",
    "writer = pd.ExcelWriter(path, engine = 'xlsxwriter')\n",
    "df1.to_excel(writer)\n",
    "\n",
    "writer.save()\n",
    "writer.close()"
   ]
  },
  {
   "cell_type": "code",
   "execution_count": null,
   "id": "41b98e3f",
   "metadata": {},
   "outputs": [],
   "source": []
  },
  {
   "cell_type": "code",
   "execution_count": null,
   "id": "eb187ace",
   "metadata": {},
   "outputs": [],
   "source": []
  },
  {
   "cell_type": "code",
   "execution_count": null,
   "id": "05810acf",
   "metadata": {},
   "outputs": [],
   "source": []
  }
 ],
 "metadata": {
  "kernelspec": {
   "display_name": "Python 3 (ipykernel)",
   "language": "python",
   "name": "python3"
  },
  "language_info": {
   "codemirror_mode": {
    "name": "ipython",
    "version": 3
   },
   "file_extension": ".py",
   "mimetype": "text/x-python",
   "name": "python",
   "nbconvert_exporter": "python",
   "pygments_lexer": "ipython3",
   "version": "3.9.7"
  }
 },
 "nbformat": 4,
 "nbformat_minor": 5
}
